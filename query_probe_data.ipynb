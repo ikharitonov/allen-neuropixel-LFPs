{
 "cells": [
  {
   "cell_type": "code",
   "execution_count": 37,
   "id": "ef8ac799-594d-4e0d-9823-2af8d5fc63a6",
   "metadata": {},
   "outputs": [],
   "source": [
    "import numpy as np\n",
    "import pandas as pd\n",
    "import matplotlib.pyplot as plt\n",
    "from pathlib import Path\n",
    "from allensdk.brain_observatory.ecephys.ecephys_project_cache import EcephysProjectCache\n",
    "from tqdm import tqdm"
   ]
  },
  {
   "cell_type": "code",
   "execution_count": 38,
   "id": "e16afc01-44ea-4ee7-ad67-73b81e7a0ec5",
   "metadata": {},
   "outputs": [],
   "source": [
    "output_dir = Path.home() / 'Desktop' / 'disk1' / 'ecephys_data'\n",
    "\n",
    "cache = EcephysProjectCache.from_warehouse(manifest=output_dir / 'manifest.json')"
   ]
  },
  {
   "cell_type": "code",
   "execution_count": 39,
   "id": "0c4e7d4c-9ae6-43ff-aff8-16b40e2fd5f9",
   "metadata": {},
   "outputs": [
    {
     "name": "stdout",
     "output_type": "stream",
     "text": [
      "332\n"
     ]
    },
    {
     "data": {
      "text/html": [
       "<div>\n",
       "<style scoped>\n",
       "    .dataframe tbody tr th:only-of-type {\n",
       "        vertical-align: middle;\n",
       "    }\n",
       "\n",
       "    .dataframe tbody tr th {\n",
       "        vertical-align: top;\n",
       "    }\n",
       "\n",
       "    .dataframe thead th {\n",
       "        text-align: right;\n",
       "    }\n",
       "</style>\n",
       "<table border=\"1\" class=\"dataframe\">\n",
       "  <thead>\n",
       "    <tr style=\"text-align: right;\">\n",
       "      <th></th>\n",
       "      <th>ecephys_session_id</th>\n",
       "      <th>lfp_sampling_rate</th>\n",
       "      <th>name</th>\n",
       "      <th>phase</th>\n",
       "      <th>sampling_rate</th>\n",
       "      <th>has_lfp_data</th>\n",
       "      <th>unit_count</th>\n",
       "      <th>channel_count</th>\n",
       "      <th>ecephys_structure_acronyms</th>\n",
       "    </tr>\n",
       "    <tr>\n",
       "      <th>id</th>\n",
       "      <th></th>\n",
       "      <th></th>\n",
       "      <th></th>\n",
       "      <th></th>\n",
       "      <th></th>\n",
       "      <th></th>\n",
       "      <th></th>\n",
       "      <th></th>\n",
       "      <th></th>\n",
       "    </tr>\n",
       "  </thead>\n",
       "  <tbody>\n",
       "    <tr>\n",
       "      <th>729445648</th>\n",
       "      <td>719161530</td>\n",
       "      <td>1249.998642</td>\n",
       "      <td>probeA</td>\n",
       "      <td>3a</td>\n",
       "      <td>29999.967418</td>\n",
       "      <td>True</td>\n",
       "      <td>87</td>\n",
       "      <td>374</td>\n",
       "      <td>[APN, LP, MB, DG, CA1, VISam, nan]</td>\n",
       "    </tr>\n",
       "    <tr>\n",
       "      <th>729445650</th>\n",
       "      <td>719161530</td>\n",
       "      <td>1249.996620</td>\n",
       "      <td>probeB</td>\n",
       "      <td>3a</td>\n",
       "      <td>29999.918880</td>\n",
       "      <td>True</td>\n",
       "      <td>202</td>\n",
       "      <td>368</td>\n",
       "      <td>[TH, Eth, APN, POL, LP, DG, CA1, VISpm, nan]</td>\n",
       "    </tr>\n",
       "    <tr>\n",
       "      <th>729445652</th>\n",
       "      <td>719161530</td>\n",
       "      <td>1249.999897</td>\n",
       "      <td>probeC</td>\n",
       "      <td>3a</td>\n",
       "      <td>29999.997521</td>\n",
       "      <td>True</td>\n",
       "      <td>207</td>\n",
       "      <td>373</td>\n",
       "      <td>[APN, NOT, MB, DG, SUB, VISp, nan]</td>\n",
       "    </tr>\n",
       "    <tr>\n",
       "      <th>729445654</th>\n",
       "      <td>719161530</td>\n",
       "      <td>1249.996707</td>\n",
       "      <td>probeD</td>\n",
       "      <td>3a</td>\n",
       "      <td>29999.920963</td>\n",
       "      <td>True</td>\n",
       "      <td>93</td>\n",
       "      <td>358</td>\n",
       "      <td>[grey, VL, CA3, CA2, CA1, VISl, nan]</td>\n",
       "    </tr>\n",
       "    <tr>\n",
       "      <th>729445656</th>\n",
       "      <td>719161530</td>\n",
       "      <td>1249.999979</td>\n",
       "      <td>probeE</td>\n",
       "      <td>3a</td>\n",
       "      <td>29999.999500</td>\n",
       "      <td>True</td>\n",
       "      <td>138</td>\n",
       "      <td>370</td>\n",
       "      <td>[PO, VPM, TH, LP, LGd, CA3, DG, CA1, VISal, nan]</td>\n",
       "    </tr>\n",
       "    <tr>\n",
       "      <th>...</th>\n",
       "      <td>...</td>\n",
       "      <td>...</td>\n",
       "      <td>...</td>\n",
       "      <td>...</td>\n",
       "      <td>...</td>\n",
       "      <td>...</td>\n",
       "      <td>...</td>\n",
       "      <td>...</td>\n",
       "      <td>...</td>\n",
       "    </tr>\n",
       "    <tr>\n",
       "      <th>848037570</th>\n",
       "      <td>847657808</td>\n",
       "      <td>1250.009761</td>\n",
       "      <td>probeB</td>\n",
       "      <td>PXI</td>\n",
       "      <td>30000.234268</td>\n",
       "      <td>True</td>\n",
       "      <td>148</td>\n",
       "      <td>383</td>\n",
       "      <td>[APN, MB, NOT, DG, ProS, VISpm, nan]</td>\n",
       "    </tr>\n",
       "    <tr>\n",
       "      <th>848037572</th>\n",
       "      <td>847657808</td>\n",
       "      <td>1250.012584</td>\n",
       "      <td>probeC</td>\n",
       "      <td>PXI</td>\n",
       "      <td>30000.302018</td>\n",
       "      <td>True</td>\n",
       "      <td>89</td>\n",
       "      <td>383</td>\n",
       "      <td>[DG, POST, SUB, VISp, nan]</td>\n",
       "    </tr>\n",
       "    <tr>\n",
       "      <th>848037574</th>\n",
       "      <td>847657808</td>\n",
       "      <td>1250.011776</td>\n",
       "      <td>probeD</td>\n",
       "      <td>PXI</td>\n",
       "      <td>30000.282632</td>\n",
       "      <td>True</td>\n",
       "      <td>155</td>\n",
       "      <td>383</td>\n",
       "      <td>[DG, CA3, CA1, VISl, nan]</td>\n",
       "    </tr>\n",
       "    <tr>\n",
       "      <th>848037576</th>\n",
       "      <td>847657808</td>\n",
       "      <td>1250.012826</td>\n",
       "      <td>probeE</td>\n",
       "      <td>PXI</td>\n",
       "      <td>30000.307834</td>\n",
       "      <td>True</td>\n",
       "      <td>89</td>\n",
       "      <td>383</td>\n",
       "      <td>[MGd, TH, DG, CA3, CA1, VISal, nan]</td>\n",
       "    </tr>\n",
       "    <tr>\n",
       "      <th>848037578</th>\n",
       "      <td>847657808</td>\n",
       "      <td>1250.011003</td>\n",
       "      <td>probeF</td>\n",
       "      <td>PXI</td>\n",
       "      <td>30000.264062</td>\n",
       "      <td>True</td>\n",
       "      <td>145</td>\n",
       "      <td>383</td>\n",
       "      <td>[SGN, LP, TH, DG, CA1, VISrl, nan]</td>\n",
       "    </tr>\n",
       "  </tbody>\n",
       "</table>\n",
       "<p>332 rows × 9 columns</p>\n",
       "</div>"
      ],
      "text/plain": [
       "           ecephys_session_id  lfp_sampling_rate    name phase  sampling_rate  \\\n",
       "id                                                                              \n",
       "729445648           719161530        1249.998642  probeA    3a   29999.967418   \n",
       "729445650           719161530        1249.996620  probeB    3a   29999.918880   \n",
       "729445652           719161530        1249.999897  probeC    3a   29999.997521   \n",
       "729445654           719161530        1249.996707  probeD    3a   29999.920963   \n",
       "729445656           719161530        1249.999979  probeE    3a   29999.999500   \n",
       "...                       ...                ...     ...   ...            ...   \n",
       "848037570           847657808        1250.009761  probeB   PXI   30000.234268   \n",
       "848037572           847657808        1250.012584  probeC   PXI   30000.302018   \n",
       "848037574           847657808        1250.011776  probeD   PXI   30000.282632   \n",
       "848037576           847657808        1250.012826  probeE   PXI   30000.307834   \n",
       "848037578           847657808        1250.011003  probeF   PXI   30000.264062   \n",
       "\n",
       "           has_lfp_data  unit_count  channel_count  \\\n",
       "id                                                   \n",
       "729445648          True          87            374   \n",
       "729445650          True         202            368   \n",
       "729445652          True         207            373   \n",
       "729445654          True          93            358   \n",
       "729445656          True         138            370   \n",
       "...                 ...         ...            ...   \n",
       "848037570          True         148            383   \n",
       "848037572          True          89            383   \n",
       "848037574          True         155            383   \n",
       "848037576          True          89            383   \n",
       "848037578          True         145            383   \n",
       "\n",
       "                                 ecephys_structure_acronyms  \n",
       "id                                                           \n",
       "729445648                [APN, LP, MB, DG, CA1, VISam, nan]  \n",
       "729445650      [TH, Eth, APN, POL, LP, DG, CA1, VISpm, nan]  \n",
       "729445652                [APN, NOT, MB, DG, SUB, VISp, nan]  \n",
       "729445654              [grey, VL, CA3, CA2, CA1, VISl, nan]  \n",
       "729445656  [PO, VPM, TH, LP, LGd, CA3, DG, CA1, VISal, nan]  \n",
       "...                                                     ...  \n",
       "848037570              [APN, MB, NOT, DG, ProS, VISpm, nan]  \n",
       "848037572                        [DG, POST, SUB, VISp, nan]  \n",
       "848037574                         [DG, CA3, CA1, VISl, nan]  \n",
       "848037576               [MGd, TH, DG, CA3, CA1, VISal, nan]  \n",
       "848037578                [SGN, LP, TH, DG, CA1, VISrl, nan]  \n",
       "\n",
       "[332 rows x 9 columns]"
      ]
     },
     "execution_count": 39,
     "metadata": {},
     "output_type": "execute_result"
    }
   ],
   "source": [
    "probe_df = cache.get_probes()\n",
    "print(len(probe_df))\n",
    "probe_df"
   ]
  },
  {
   "cell_type": "code",
   "execution_count": 40,
   "id": "22017f82-e28b-4908-a744-701bf1a47702",
   "metadata": {},
   "outputs": [
    {
     "name": "stdout",
     "output_type": "stream",
     "text": [
      "['APN', 'LP', 'MB', 'DG', 'CA1', 'VISam', nan, 'TH', 'Eth', 'POL', 'VISpm', 'NOT', 'SUB', 'VISp', 'grey', 'VL', 'CA3', 'CA2', 'VISl', 'PO', 'VPM', 'LGd', 'VISal', 'VISrl', 'HPF', 'VIS', 'SGN', 'IGL', 'VPL', 'IntG', 'PoT', 'MGm', 'LGv', 'VISmma', 'SCig', 'PPT', 'ProS', 'POST', 'MGv', 'MGd', 'ZI', 'VISmmp', 'MRN', 'LD', 'OP', 'VISli', 'PP', 'PIL', 'LT', 'RPF', 'PF', 'SCiw', 'PRE', 'CP', 'COAa', 'SCop', 'COApm', 'OLF', 'BMAa', 'SCsg', 'SCzo', 'RT']\n"
     ]
    }
   ],
   "source": [
    "unique_structures = []\n",
    "for probe_structures in cache.get_probes()['ecephys_structure_acronyms']:\n",
    "    for item in probe_structures:\n",
    "        if item not in unique_structures:\n",
    "            unique_structures.append(item)\n",
    "print(unique_structures)"
   ]
  },
  {
   "cell_type": "code",
   "execution_count": 43,
   "id": "3647c6a6-fff8-41a7-95c7-38881ea00398",
   "metadata": {},
   "outputs": [],
   "source": [
    "def get_probes_from_specified_areas(areas):\n",
    "    probe_id_array = np.array([])\n",
    "    for area in areas:\n",
    "        if area not in unique_structures:\n",
    "            print(f'THERE ARE NOT RECORDINGS FROM \"{area}\" FOUND.')\n",
    "        else:\n",
    "            print(f'AREA \"{area}\" FOUND. SELECTING PROBES WITH LFP DATA.')\n",
    "            new_id_array = probe_df[(probe_df['ecephys_structure_acronyms'].apply(lambda x: area in x)) & (probe_df['has_lfp_data'] == True)].index.to_list()\n",
    "            print(f'{len(new_id_array)} FOUND.')\n",
    "            probe_id_array = np.concatenate((probe_id_array,new_id_array),axis=0).astype(int)\n",
    "    return probe_id_array"
   ]
  },
  {
   "cell_type": "code",
   "execution_count": 44,
   "id": "2a07c007-36e0-4a15-b809-00074c0be1cc",
   "metadata": {},
   "outputs": [
    {
     "name": "stdout",
     "output_type": "stream",
     "text": [
      "AREA \"VISp\" FOUND. SELECTING PROBES WITH LFP DATA.\n",
      "56 FOUND.\n"
     ]
    },
    {
     "data": {
      "text/plain": [
       "array([729445652, 733744649, 756781557, 757904513, 757904550, 757968493,\n",
       "       757984820, 757988391, 760213145, 760640039, 760640049, 760640090,\n",
       "       760642628, 760647909, 768908152, 768908585, 768909182, 769322716,\n",
       "       769322749, 769322793, 769322806, 769322827, 769322856, 769325786,\n",
       "       770930073, 773462993, 773463017, 773549848, 773592320, 773621942,\n",
       "       773654728, 792586842, 792586881, 792602654, 792607549, 792623921,\n",
       "       792626847, 792645497, 792676158, 800036200, 805002031, 805008604,\n",
       "       805124806, 805579703, 805579741, 810753199, 810755801, 810758781,\n",
       "       822645897, 832129154, 832810578, 836943717, 837761710, 868297129,\n",
       "       868929138, 848037572])"
      ]
     },
     "execution_count": 44,
     "metadata": {},
     "output_type": "execute_result"
    }
   ],
   "source": [
    "selected_probe_ids = get_probes_from_specified_areas(['VISp'])\n",
    "selected_probe_ids"
   ]
  },
  {
   "cell_type": "code",
   "execution_count": 45,
   "id": "8455bdf1-9ae0-4644-8711-a399980d09d7",
   "metadata": {},
   "outputs": [
    {
     "name": "stderr",
     "output_type": "stream",
     "text": [
      "  0%|          | 0/56 [00:00<?, ?it/s]WARNING:root:downloading a 2929.156MiB file from http://api.brain-map.org//api/v2/well_known_file_download/1026124034\n"
     ]
    },
    {
     "data": {
      "application/vnd.jupyter.widget-view+json": {
       "model_id": "f2d9e5fe9c644054897c6447402fa5e1",
       "version_major": 2,
       "version_minor": 0
      },
      "text/plain": [
       "Downloading:   0%|          | 0.00/3.07G [00:00<?, ?B/s]"
      ]
     },
     "metadata": {},
     "output_type": "display_data"
    },
    {
     "name": "stderr",
     "output_type": "stream",
     "text": [
      "/home/ikharitonov/anaconda3/envs/allendata/lib/python3.7/site-packages/allensdk/api/warehouse_cache/caching_utilities.py:127: UserWarning: retrying fetch (1 tries remaining)\n",
      "  warnings.warn(retry_message)\n",
      "WARNING:root:downloading a 2929.156MiB file from http://api.brain-map.org//api/v2/well_known_file_download/1026124034\n"
     ]
    },
    {
     "data": {
      "application/vnd.jupyter.widget-view+json": {
       "model_id": "d6e5c38b987745828b17a7e87f4420b1",
       "version_major": 2,
       "version_minor": 0
      },
      "text/plain": [
       "Downloading:   0%|          | 0.00/3.07G [00:00<?, ?B/s]"
      ]
     },
     "metadata": {},
     "output_type": "display_data"
    },
    {
     "name": "stderr",
     "output_type": "stream",
     "text": [
      "  0%|          | 0/56 [40:04<?, ?it/s]\n"
     ]
    },
    {
     "ename": "Timeout",
     "evalue": "Download took 1200.0897001830017 seconds, but timeout was set to 1200",
     "output_type": "error",
     "traceback": [
      "\u001b[0;31m---------------------------------------------------------------------------\u001b[0m",
      "\u001b[0;31mFileNotFoundError\u001b[0m                         Traceback (most recent call last)",
      "\u001b[0;32m~/anaconda3/envs/allendata/lib/python3.7/site-packages/allensdk/api/warehouse_cache/caching_utilities.py\u001b[0m in \u001b[0;36mcall_caching\u001b[0;34m(fetch, write, read, pre_write, cleanup, lazy, num_tries, failure_message)\u001b[0m\n\u001b[1;32m    103\u001b[0m             \u001b[0mlogger\u001b[0m\u001b[0;34m.\u001b[0m\u001b[0minfo\u001b[0m\u001b[0;34m(\u001b[0m\u001b[0;34m\"Reading data from cache\"\u001b[0m\u001b[0;34m)\u001b[0m\u001b[0;34m\u001b[0m\u001b[0;34m\u001b[0m\u001b[0m\n\u001b[0;32m--> 104\u001b[0;31m             \u001b[0;32mreturn\u001b[0m \u001b[0mread\u001b[0m\u001b[0;34m(\u001b[0m\u001b[0;34m)\u001b[0m\u001b[0;34m\u001b[0m\u001b[0;34m\u001b[0m\u001b[0m\n\u001b[0m\u001b[1;32m    105\u001b[0m     \u001b[0;32mexcept\u001b[0m \u001b[0mException\u001b[0m \u001b[0;32mas\u001b[0m \u001b[0me\u001b[0m\u001b[0;34m:\u001b[0m\u001b[0;34m\u001b[0m\u001b[0;34m\u001b[0m\u001b[0m\n",
      "\u001b[0;32m~/anaconda3/envs/allendata/lib/python3.7/site-packages/allensdk/brain_observatory/ecephys/ecephys_project_cache.py\u001b[0m in \u001b[0;36mread\u001b[0;34m(_path)\u001b[0m\n\u001b[1;32m    347\u001b[0m         \u001b[0;32mdef\u001b[0m \u001b[0mread\u001b[0m\u001b[0;34m(\u001b[0m\u001b[0m_path\u001b[0m\u001b[0;34m)\u001b[0m\u001b[0;34m:\u001b[0m\u001b[0;34m\u001b[0m\u001b[0;34m\u001b[0m\u001b[0m\n\u001b[0;32m--> 348\u001b[0;31m             \u001b[0msession_api\u001b[0m \u001b[0;34m=\u001b[0m \u001b[0mself\u001b[0m\u001b[0;34m.\u001b[0m\u001b[0m_build_nwb_api_for_session\u001b[0m\u001b[0;34m(\u001b[0m\u001b[0m_path\u001b[0m\u001b[0;34m,\u001b[0m \u001b[0msession_id\u001b[0m\u001b[0;34m,\u001b[0m \u001b[0mfilter_by_validity\u001b[0m\u001b[0;34m,\u001b[0m \u001b[0;34m**\u001b[0m\u001b[0munit_filter_kwargs\u001b[0m\u001b[0;34m)\u001b[0m\u001b[0;34m\u001b[0m\u001b[0;34m\u001b[0m\u001b[0m\n\u001b[0m\u001b[1;32m    349\u001b[0m             \u001b[0;32mreturn\u001b[0m \u001b[0mEcephysSession\u001b[0m\u001b[0;34m(\u001b[0m\u001b[0mapi\u001b[0m\u001b[0;34m=\u001b[0m\u001b[0msession_api\u001b[0m\u001b[0;34m,\u001b[0m \u001b[0mtest\u001b[0m\u001b[0;34m=\u001b[0m\u001b[0;32mTrue\u001b[0m\u001b[0;34m)\u001b[0m\u001b[0;34m\u001b[0m\u001b[0;34m\u001b[0m\u001b[0m\n",
      "\u001b[0;32m~/anaconda3/envs/allendata/lib/python3.7/site-packages/allensdk/brain_observatory/ecephys/ecephys_project_cache.py\u001b[0m in \u001b[0;36m_build_nwb_api_for_session\u001b[0;34m(self, path, session_id, filter_by_validity, **unit_filter_kwargs)\u001b[0m\n\u001b[1;32m    374\u001b[0m             \u001b[0mfilter_by_validity\u001b[0m\u001b[0;34m=\u001b[0m\u001b[0mfilter_by_validity\u001b[0m\u001b[0;34m,\u001b[0m\u001b[0;34m\u001b[0m\u001b[0;34m\u001b[0m\u001b[0m\n\u001b[0;32m--> 375\u001b[0;31m             \u001b[0;34m**\u001b[0m\u001b[0munit_filter_kwargs\u001b[0m\u001b[0;34m\u001b[0m\u001b[0;34m\u001b[0m\u001b[0m\n\u001b[0m\u001b[1;32m    376\u001b[0m         )\n",
      "\u001b[0;32m~/anaconda3/envs/allendata/lib/python3.7/site-packages/allensdk/brain_observatory/ecephys/ecephys_session_api/ecephys_nwb_session_api.py\u001b[0m in \u001b[0;36m__init__\u001b[0;34m(self, path, probe_lfp_paths, additional_unit_metrics, external_channel_columns, **kwargs)\u001b[0m\n\u001b[1;32m     60\u001b[0m                 warning_msg=(\n\u001b[0;32m---> 61\u001b[0;31m                     \u001b[0;34mf\"It looks like the Visual Coding Neuropixels nwbfile \"\u001b[0m\u001b[0;34m\u001b[0m\u001b[0;34m\u001b[0m\u001b[0m\n\u001b[0m\u001b[1;32m     62\u001b[0m                     \u001b[0;34mf\"you are trying to access ({self.path})\"\u001b[0m\u001b[0;34m\u001b[0m\u001b[0;34m\u001b[0m\u001b[0m\n",
      "\u001b[0;32m~/anaconda3/envs/allendata/lib/python3.7/site-packages/allensdk/brain_observatory/nwb/__init__.py\u001b[0m in \u001b[0;36mcheck_nwbfile_version\u001b[0;34m(nwbfile_path, desired_minimum_version, warning_msg)\u001b[0m\n\u001b[1;32m     54\u001b[0m                           warning_msg: str):\n\u001b[0;32m---> 55\u001b[0;31m     \u001b[0;32mwith\u001b[0m \u001b[0mh5py\u001b[0m\u001b[0;34m.\u001b[0m\u001b[0mFile\u001b[0m\u001b[0;34m(\u001b[0m\u001b[0mnwbfile_path\u001b[0m\u001b[0;34m,\u001b[0m \u001b[0;34m'r'\u001b[0m\u001b[0;34m)\u001b[0m \u001b[0;32mas\u001b[0m \u001b[0mf\u001b[0m\u001b[0;34m:\u001b[0m\u001b[0;34m\u001b[0m\u001b[0;34m\u001b[0m\u001b[0m\n\u001b[0m\u001b[1;32m     56\u001b[0m         \u001b[0;31m# nwb 2.x files store version as an attribute\u001b[0m\u001b[0;34m\u001b[0m\u001b[0;34m\u001b[0m\u001b[0;34m\u001b[0m\u001b[0m\n",
      "\u001b[0;32m~/anaconda3/envs/allendata/lib/python3.7/site-packages/h5py/_hl/files.py\u001b[0m in \u001b[0;36m__init__\u001b[0;34m(self, name, mode, driver, libver, userblock_size, swmr, rdcc_nslots, rdcc_nbytes, rdcc_w0, track_order, fs_strategy, fs_persist, fs_threshold, fs_page_size, page_buf_size, min_meta_keep, min_raw_keep, locking, alignment_threshold, alignment_interval, **kwds)\u001b[0m\n\u001b[1;32m    532\u001b[0m                                  fs_page_size=fs_page_size)\n\u001b[0;32m--> 533\u001b[0;31m                 \u001b[0mfid\u001b[0m \u001b[0;34m=\u001b[0m \u001b[0mmake_fid\u001b[0m\u001b[0;34m(\u001b[0m\u001b[0mname\u001b[0m\u001b[0;34m,\u001b[0m \u001b[0mmode\u001b[0m\u001b[0;34m,\u001b[0m \u001b[0muserblock_size\u001b[0m\u001b[0;34m,\u001b[0m \u001b[0mfapl\u001b[0m\u001b[0;34m,\u001b[0m \u001b[0mfcpl\u001b[0m\u001b[0;34m,\u001b[0m \u001b[0mswmr\u001b[0m\u001b[0;34m=\u001b[0m\u001b[0mswmr\u001b[0m\u001b[0;34m)\u001b[0m\u001b[0;34m\u001b[0m\u001b[0;34m\u001b[0m\u001b[0m\n\u001b[0m\u001b[1;32m    534\u001b[0m \u001b[0;34m\u001b[0m\u001b[0m\n",
      "\u001b[0;32m~/anaconda3/envs/allendata/lib/python3.7/site-packages/h5py/_hl/files.py\u001b[0m in \u001b[0;36mmake_fid\u001b[0;34m(name, mode, userblock_size, fapl, fcpl, swmr)\u001b[0m\n\u001b[1;32m    225\u001b[0m             \u001b[0mflags\u001b[0m \u001b[0;34m|=\u001b[0m \u001b[0mh5f\u001b[0m\u001b[0;34m.\u001b[0m\u001b[0mACC_SWMR_READ\u001b[0m\u001b[0;34m\u001b[0m\u001b[0;34m\u001b[0m\u001b[0m\n\u001b[0;32m--> 226\u001b[0;31m         \u001b[0mfid\u001b[0m \u001b[0;34m=\u001b[0m \u001b[0mh5f\u001b[0m\u001b[0;34m.\u001b[0m\u001b[0mopen\u001b[0m\u001b[0;34m(\u001b[0m\u001b[0mname\u001b[0m\u001b[0;34m,\u001b[0m \u001b[0mflags\u001b[0m\u001b[0;34m,\u001b[0m \u001b[0mfapl\u001b[0m\u001b[0;34m=\u001b[0m\u001b[0mfapl\u001b[0m\u001b[0;34m)\u001b[0m\u001b[0;34m\u001b[0m\u001b[0;34m\u001b[0m\u001b[0m\n\u001b[0m\u001b[1;32m    227\u001b[0m     \u001b[0;32melif\u001b[0m \u001b[0mmode\u001b[0m \u001b[0;34m==\u001b[0m \u001b[0;34m'r+'\u001b[0m\u001b[0;34m:\u001b[0m\u001b[0;34m\u001b[0m\u001b[0;34m\u001b[0m\u001b[0m\n",
      "\u001b[0;32mh5py/_objects.pyx\u001b[0m in \u001b[0;36mh5py._objects.with_phil.wrapper\u001b[0;34m()\u001b[0m\n",
      "\u001b[0;32mh5py/_objects.pyx\u001b[0m in \u001b[0;36mh5py._objects.with_phil.wrapper\u001b[0;34m()\u001b[0m\n",
      "\u001b[0;32mh5py/h5f.pyx\u001b[0m in \u001b[0;36mh5py.h5f.open\u001b[0;34m()\u001b[0m\n",
      "\u001b[0;31mFileNotFoundError\u001b[0m: [Errno 2] Unable to open file (unable to open file: name = '/home/ikharitonov/Desktop/disk1/ecephys_data/session_719161530/session_719161530.nwb', errno = 2, error message = 'No such file or directory', flags = 0, o_flags = 0)",
      "\nDuring handling of the above exception, another exception occurred:\n",
      "\u001b[0;31mTimeout\u001b[0m                                   Traceback (most recent call last)",
      "\u001b[0;32m~/anaconda3/envs/allendata/lib/python3.7/site-packages/allensdk/api/warehouse_cache/caching_utilities.py\u001b[0m in \u001b[0;36mcall_caching\u001b[0;34m(fetch, write, read, pre_write, cleanup, lazy, num_tries, failure_message)\u001b[0m\n\u001b[1;32m     99\u001b[0m             \u001b[0mlogger\u001b[0m\u001b[0;34m.\u001b[0m\u001b[0minfo\u001b[0m\u001b[0;34m(\u001b[0m\u001b[0;34m\"Writing data to cache\"\u001b[0m\u001b[0;34m)\u001b[0m\u001b[0;34m\u001b[0m\u001b[0;34m\u001b[0m\u001b[0m\n\u001b[0;32m--> 100\u001b[0;31m             \u001b[0mwrite\u001b[0m\u001b[0;34m(\u001b[0m\u001b[0mdata\u001b[0m\u001b[0;34m)\u001b[0m\u001b[0;34m\u001b[0m\u001b[0;34m\u001b[0m\u001b[0m\n\u001b[0m\u001b[1;32m    101\u001b[0m \u001b[0;34m\u001b[0m\u001b[0m\n",
      "\u001b[0;32m~/anaconda3/envs/allendata/lib/python3.7/site-packages/allensdk/api/warehouse_cache/caching_utilities.py\u001b[0m in \u001b[0;36msafe_write\u001b[0;34m(data)\u001b[0m\n\u001b[1;32m    170\u001b[0m         \u001b[0mManifest\u001b[0m\u001b[0;34m.\u001b[0m\u001b[0msafe_make_parent_dirs\u001b[0m\u001b[0;34m(\u001b[0m\u001b[0mpath\u001b[0m\u001b[0;34m)\u001b[0m\u001b[0;34m\u001b[0m\u001b[0;34m\u001b[0m\u001b[0m\n\u001b[0;32m--> 171\u001b[0;31m         \u001b[0mwrite\u001b[0m\u001b[0;34m(\u001b[0m\u001b[0mpath\u001b[0m\u001b[0;34m,\u001b[0m \u001b[0mdata\u001b[0m\u001b[0;34m)\u001b[0m\u001b[0;34m\u001b[0m\u001b[0;34m\u001b[0m\u001b[0m\n\u001b[0m\u001b[1;32m    172\u001b[0m \u001b[0;34m\u001b[0m\u001b[0m\n",
      "\u001b[0;32m~/anaconda3/envs/allendata/lib/python3.7/site-packages/allensdk/brain_observatory/ecephys/ecephys_project_api/http_engine.py\u001b[0m in \u001b[0;36mwrite_from_stream\u001b[0;34m(path, stream)\u001b[0m\n\u001b[1;32m    233\u001b[0m     \u001b[0;32mwith\u001b[0m \u001b[0mopen\u001b[0m\u001b[0;34m(\u001b[0m\u001b[0mpath\u001b[0m\u001b[0;34m,\u001b[0m \u001b[0;34m\"wb\"\u001b[0m\u001b[0;34m)\u001b[0m \u001b[0;32mas\u001b[0m \u001b[0mfil\u001b[0m\u001b[0;34m:\u001b[0m\u001b[0;34m\u001b[0m\u001b[0;34m\u001b[0m\u001b[0m\n\u001b[0;32m--> 234\u001b[0;31m         \u001b[0;32mfor\u001b[0m \u001b[0mchunk\u001b[0m \u001b[0;32min\u001b[0m \u001b[0mstream\u001b[0m\u001b[0;34m:\u001b[0m\u001b[0;34m\u001b[0m\u001b[0;34m\u001b[0m\u001b[0m\n\u001b[0m\u001b[1;32m    235\u001b[0m             \u001b[0mfil\u001b[0m\u001b[0;34m.\u001b[0m\u001b[0mwrite\u001b[0m\u001b[0;34m(\u001b[0m\u001b[0mchunk\u001b[0m\u001b[0;34m)\u001b[0m\u001b[0;34m\u001b[0m\u001b[0;34m\u001b[0m\u001b[0m\n",
      "\u001b[0;32m~/anaconda3/envs/allendata/lib/python3.7/site-packages/allensdk/brain_observatory/ecephys/ecephys_project_api/http_engine.py\u001b[0m in \u001b[0;36mstream\u001b[0;34m(self, route)\u001b[0m\n\u001b[1;32m     82\u001b[0m             \u001b[0;32mif\u001b[0m \u001b[0melapsed\u001b[0m \u001b[0;34m>\u001b[0m \u001b[0mself\u001b[0m\u001b[0;34m.\u001b[0m\u001b[0mtimeout\u001b[0m\u001b[0;34m:\u001b[0m\u001b[0;34m\u001b[0m\u001b[0;34m\u001b[0m\u001b[0m\n\u001b[0;32m---> 83\u001b[0;31m                 \u001b[0;32mraise\u001b[0m \u001b[0mrequests\u001b[0m\u001b[0;34m.\u001b[0m\u001b[0mTimeout\u001b[0m\u001b[0;34m(\u001b[0m\u001b[0;34mf\"Download took {elapsed} seconds, but timeout was set to {self.timeout}\"\u001b[0m\u001b[0;34m)\u001b[0m\u001b[0;34m\u001b[0m\u001b[0;34m\u001b[0m\u001b[0m\n\u001b[0m\u001b[1;32m     84\u001b[0m \u001b[0;34m\u001b[0m\u001b[0m\n",
      "\u001b[0;31mTimeout\u001b[0m: Download took 1200.1207017900015 seconds, but timeout was set to 1200",
      "\nDuring handling of the above exception, another exception occurred:\n",
      "\u001b[0;31mTimeout\u001b[0m                                   Traceback (most recent call last)",
      "\u001b[0;32m/tmp/ipykernel_100177/2297111433.py\u001b[0m in \u001b[0;36m<module>\u001b[0;34m\u001b[0m\n\u001b[1;32m      1\u001b[0m \u001b[0;31m# Download session metadata and LFP data for every selected probe\u001b[0m\u001b[0;34m\u001b[0m\u001b[0;34m\u001b[0m\u001b[0;34m\u001b[0m\u001b[0m\n\u001b[1;32m      2\u001b[0m \u001b[0;32mfor\u001b[0m \u001b[0mprobe_id\u001b[0m \u001b[0;32min\u001b[0m \u001b[0mtqdm\u001b[0m\u001b[0;34m(\u001b[0m\u001b[0mselected_probe_ids\u001b[0m\u001b[0;34m)\u001b[0m\u001b[0;34m:\u001b[0m\u001b[0;34m\u001b[0m\u001b[0;34m\u001b[0m\u001b[0m\n\u001b[0;32m----> 3\u001b[0;31m     \u001b[0msession\u001b[0m \u001b[0;34m=\u001b[0m \u001b[0mcache\u001b[0m\u001b[0;34m.\u001b[0m\u001b[0mget_session_data\u001b[0m\u001b[0;34m(\u001b[0m\u001b[0mcache\u001b[0m\u001b[0;34m.\u001b[0m\u001b[0mget_probes\u001b[0m\u001b[0;34m(\u001b[0m\u001b[0;34m)\u001b[0m\u001b[0;34m[\u001b[0m\u001b[0mcache\u001b[0m\u001b[0;34m.\u001b[0m\u001b[0mget_probes\u001b[0m\u001b[0;34m(\u001b[0m\u001b[0;34m)\u001b[0m\u001b[0;34m.\u001b[0m\u001b[0mindex\u001b[0m\u001b[0;34m==\u001b[0m\u001b[0mprobe_id\u001b[0m\u001b[0;34m]\u001b[0m\u001b[0;34m[\u001b[0m\u001b[0;34m'ecephys_session_id'\u001b[0m\u001b[0;34m]\u001b[0m\u001b[0;34m.\u001b[0m\u001b[0mitem\u001b[0m\u001b[0;34m(\u001b[0m\u001b[0;34m)\u001b[0m\u001b[0;34m)\u001b[0m\u001b[0;34m\u001b[0m\u001b[0;34m\u001b[0m\u001b[0m\n\u001b[0m\u001b[1;32m      4\u001b[0m     \u001b[0mlfp\u001b[0m \u001b[0;34m=\u001b[0m \u001b[0msession\u001b[0m\u001b[0;34m.\u001b[0m\u001b[0mget_lfp\u001b[0m\u001b[0;34m(\u001b[0m\u001b[0mprobe_id\u001b[0m\u001b[0;34m)\u001b[0m\u001b[0;34m\u001b[0m\u001b[0;34m\u001b[0m\u001b[0m\n",
      "\u001b[0;32m~/anaconda3/envs/allendata/lib/python3.7/site-packages/allensdk/brain_observatory/ecephys/ecephys_project_cache.py\u001b[0m in \u001b[0;36mget_session_data\u001b[0;34m(self, session_id, filter_by_validity, **unit_filter_kwargs)\u001b[0m\n\u001b[1;32m    354\u001b[0m             \u001b[0mself\u001b[0m\u001b[0;34m.\u001b[0m\u001b[0mstream_writer\u001b[0m\u001b[0;34m,\u001b[0m\u001b[0;34m\u001b[0m\u001b[0;34m\u001b[0m\u001b[0m\n\u001b[1;32m    355\u001b[0m             \u001b[0mread\u001b[0m\u001b[0;34m,\u001b[0m\u001b[0;34m\u001b[0m\u001b[0;34m\u001b[0m\u001b[0m\n\u001b[0;32m--> 356\u001b[0;31m             \u001b[0mnum_tries\u001b[0m\u001b[0;34m=\u001b[0m\u001b[0mself\u001b[0m\u001b[0;34m.\u001b[0m\u001b[0mfetch_tries\u001b[0m\u001b[0;34m\u001b[0m\u001b[0;34m\u001b[0m\u001b[0m\n\u001b[0m\u001b[1;32m    357\u001b[0m         )\n\u001b[1;32m    358\u001b[0m \u001b[0;34m\u001b[0m\u001b[0m\n",
      "\u001b[0;32m~/anaconda3/envs/allendata/lib/python3.7/site-packages/allensdk/api/warehouse_cache/caching_utilities.py\u001b[0m in \u001b[0;36mone_file_call_caching\u001b[0;34m(path, fetch, write, read, pre_write, cleanup, lazy, num_tries, failure_message)\u001b[0m\n\u001b[1;32m    185\u001b[0m         \u001b[0mlazy\u001b[0m\u001b[0;34m=\u001b[0m\u001b[0mlazy\u001b[0m\u001b[0;34m,\u001b[0m\u001b[0;34m\u001b[0m\u001b[0;34m\u001b[0m\u001b[0m\n\u001b[1;32m    186\u001b[0m         \u001b[0mnum_tries\u001b[0m\u001b[0;34m=\u001b[0m\u001b[0mnum_tries\u001b[0m\u001b[0;34m,\u001b[0m\u001b[0;34m\u001b[0m\u001b[0;34m\u001b[0m\u001b[0m\n\u001b[0;32m--> 187\u001b[0;31m         \u001b[0mfailure_message\u001b[0m\u001b[0;34m=\u001b[0m\u001b[0mfailure_message\u001b[0m\u001b[0;34m,\u001b[0m\u001b[0;34m\u001b[0m\u001b[0;34m\u001b[0m\u001b[0m\n\u001b[0m\u001b[1;32m    188\u001b[0m     )\n",
      "\u001b[0;32m~/anaconda3/envs/allendata/lib/python3.7/site-packages/allensdk/api/warehouse_cache/caching_utilities.py\u001b[0m in \u001b[0;36mcall_caching\u001b[0;34m(fetch, write, read, pre_write, cleanup, lazy, num_tries, failure_message)\u001b[0m\n\u001b[1;32m    135\u001b[0m             \u001b[0mlazy\u001b[0m\u001b[0;34m=\u001b[0m\u001b[0;32mFalse\u001b[0m\u001b[0;34m,\u001b[0m\u001b[0;34m\u001b[0m\u001b[0;34m\u001b[0m\u001b[0m\n\u001b[1;32m    136\u001b[0m             \u001b[0mnum_tries\u001b[0m\u001b[0;34m=\u001b[0m\u001b[0mnum_tries\u001b[0m\u001b[0;34m,\u001b[0m\u001b[0;34m\u001b[0m\u001b[0;34m\u001b[0m\u001b[0m\n\u001b[0;32m--> 137\u001b[0;31m             \u001b[0mfailure_message\u001b[0m\u001b[0;34m=\u001b[0m\u001b[0mfailure_message\u001b[0m\u001b[0;34m,\u001b[0m\u001b[0;34m\u001b[0m\u001b[0;34m\u001b[0m\u001b[0m\n\u001b[0m\u001b[1;32m    138\u001b[0m         )\n\u001b[1;32m    139\u001b[0m \u001b[0;34m\u001b[0m\u001b[0m\n",
      "\u001b[0;32m~/anaconda3/envs/allendata/lib/python3.7/site-packages/allensdk/api/warehouse_cache/caching_utilities.py\u001b[0m in \u001b[0;36mcall_caching\u001b[0;34m(fetch, write, read, pre_write, cleanup, lazy, num_tries, failure_message)\u001b[0m\n\u001b[1;32m    135\u001b[0m             \u001b[0mlazy\u001b[0m\u001b[0;34m=\u001b[0m\u001b[0;32mFalse\u001b[0m\u001b[0;34m,\u001b[0m\u001b[0;34m\u001b[0m\u001b[0;34m\u001b[0m\u001b[0m\n\u001b[1;32m    136\u001b[0m             \u001b[0mnum_tries\u001b[0m\u001b[0;34m=\u001b[0m\u001b[0mnum_tries\u001b[0m\u001b[0;34m,\u001b[0m\u001b[0;34m\u001b[0m\u001b[0;34m\u001b[0m\u001b[0m\n\u001b[0;32m--> 137\u001b[0;31m             \u001b[0mfailure_message\u001b[0m\u001b[0;34m=\u001b[0m\u001b[0mfailure_message\u001b[0m\u001b[0;34m,\u001b[0m\u001b[0;34m\u001b[0m\u001b[0;34m\u001b[0m\u001b[0m\n\u001b[0m\u001b[1;32m    138\u001b[0m         )\n\u001b[1;32m    139\u001b[0m \u001b[0;34m\u001b[0m\u001b[0m\n",
      "\u001b[0;32m~/anaconda3/envs/allendata/lib/python3.7/site-packages/allensdk/api/warehouse_cache/caching_utilities.py\u001b[0m in \u001b[0;36mcall_caching\u001b[0;34m(fetch, write, read, pre_write, cleanup, lazy, num_tries, failure_message)\u001b[0m\n\u001b[1;32m     98\u001b[0m                 \u001b[0mdata\u001b[0m \u001b[0;34m=\u001b[0m \u001b[0mpre_write\u001b[0m\u001b[0;34m(\u001b[0m\u001b[0mdata\u001b[0m\u001b[0;34m)\u001b[0m\u001b[0;34m\u001b[0m\u001b[0;34m\u001b[0m\u001b[0m\n\u001b[1;32m     99\u001b[0m             \u001b[0mlogger\u001b[0m\u001b[0;34m.\u001b[0m\u001b[0minfo\u001b[0m\u001b[0;34m(\u001b[0m\u001b[0;34m\"Writing data to cache\"\u001b[0m\u001b[0;34m)\u001b[0m\u001b[0;34m\u001b[0m\u001b[0;34m\u001b[0m\u001b[0m\n\u001b[0;32m--> 100\u001b[0;31m             \u001b[0mwrite\u001b[0m\u001b[0;34m(\u001b[0m\u001b[0mdata\u001b[0m\u001b[0;34m)\u001b[0m\u001b[0;34m\u001b[0m\u001b[0;34m\u001b[0m\u001b[0m\n\u001b[0m\u001b[1;32m    101\u001b[0m \u001b[0;34m\u001b[0m\u001b[0m\n\u001b[1;32m    102\u001b[0m         \u001b[0;32mif\u001b[0m \u001b[0mread\u001b[0m \u001b[0;32mis\u001b[0m \u001b[0;32mnot\u001b[0m \u001b[0;32mNone\u001b[0m\u001b[0;34m:\u001b[0m\u001b[0;34m\u001b[0m\u001b[0;34m\u001b[0m\u001b[0m\n",
      "\u001b[0;32m~/anaconda3/envs/allendata/lib/python3.7/site-packages/allensdk/api/warehouse_cache/caching_utilities.py\u001b[0m in \u001b[0;36msafe_write\u001b[0;34m(data)\u001b[0m\n\u001b[1;32m    169\u001b[0m     \u001b[0;32mdef\u001b[0m \u001b[0msafe_write\u001b[0m\u001b[0;34m(\u001b[0m\u001b[0mdata\u001b[0m\u001b[0;34m:\u001b[0m \u001b[0mQ\u001b[0m\u001b[0;34m)\u001b[0m\u001b[0;34m:\u001b[0m\u001b[0;34m\u001b[0m\u001b[0;34m\u001b[0m\u001b[0m\n\u001b[1;32m    170\u001b[0m         \u001b[0mManifest\u001b[0m\u001b[0;34m.\u001b[0m\u001b[0msafe_make_parent_dirs\u001b[0m\u001b[0;34m(\u001b[0m\u001b[0mpath\u001b[0m\u001b[0;34m)\u001b[0m\u001b[0;34m\u001b[0m\u001b[0;34m\u001b[0m\u001b[0m\n\u001b[0;32m--> 171\u001b[0;31m         \u001b[0mwrite\u001b[0m\u001b[0;34m(\u001b[0m\u001b[0mpath\u001b[0m\u001b[0;34m,\u001b[0m \u001b[0mdata\u001b[0m\u001b[0;34m)\u001b[0m\u001b[0;34m\u001b[0m\u001b[0;34m\u001b[0m\u001b[0m\n\u001b[0m\u001b[1;32m    172\u001b[0m \u001b[0;34m\u001b[0m\u001b[0m\n\u001b[1;32m    173\u001b[0m     \u001b[0;32mif\u001b[0m \u001b[0mread\u001b[0m \u001b[0;32mis\u001b[0m \u001b[0;32mnot\u001b[0m \u001b[0;32mNone\u001b[0m\u001b[0;34m:\u001b[0m\u001b[0;34m\u001b[0m\u001b[0;34m\u001b[0m\u001b[0m\n",
      "\u001b[0;32m~/anaconda3/envs/allendata/lib/python3.7/site-packages/allensdk/brain_observatory/ecephys/ecephys_project_api/http_engine.py\u001b[0m in \u001b[0;36mwrite_from_stream\u001b[0;34m(path, stream)\u001b[0m\n\u001b[1;32m    232\u001b[0m     \"\"\"\n\u001b[1;32m    233\u001b[0m     \u001b[0;32mwith\u001b[0m \u001b[0mopen\u001b[0m\u001b[0;34m(\u001b[0m\u001b[0mpath\u001b[0m\u001b[0;34m,\u001b[0m \u001b[0;34m\"wb\"\u001b[0m\u001b[0;34m)\u001b[0m \u001b[0;32mas\u001b[0m \u001b[0mfil\u001b[0m\u001b[0;34m:\u001b[0m\u001b[0;34m\u001b[0m\u001b[0;34m\u001b[0m\u001b[0m\n\u001b[0;32m--> 234\u001b[0;31m         \u001b[0;32mfor\u001b[0m \u001b[0mchunk\u001b[0m \u001b[0;32min\u001b[0m \u001b[0mstream\u001b[0m\u001b[0;34m:\u001b[0m\u001b[0;34m\u001b[0m\u001b[0;34m\u001b[0m\u001b[0m\n\u001b[0m\u001b[1;32m    235\u001b[0m             \u001b[0mfil\u001b[0m\u001b[0;34m.\u001b[0m\u001b[0mwrite\u001b[0m\u001b[0;34m(\u001b[0m\u001b[0mchunk\u001b[0m\u001b[0;34m)\u001b[0m\u001b[0;34m\u001b[0m\u001b[0;34m\u001b[0m\u001b[0m\n",
      "\u001b[0;32m~/anaconda3/envs/allendata/lib/python3.7/site-packages/allensdk/brain_observatory/ecephys/ecephys_project_api/http_engine.py\u001b[0m in \u001b[0;36mstream\u001b[0;34m(self, route)\u001b[0m\n\u001b[1;32m     81\u001b[0m             \u001b[0melapsed\u001b[0m \u001b[0;34m=\u001b[0m \u001b[0mtime\u001b[0m\u001b[0;34m.\u001b[0m\u001b[0mperf_counter\u001b[0m\u001b[0;34m(\u001b[0m\u001b[0;34m)\u001b[0m \u001b[0;34m-\u001b[0m \u001b[0mstart_time\u001b[0m\u001b[0;34m\u001b[0m\u001b[0;34m\u001b[0m\u001b[0m\n\u001b[1;32m     82\u001b[0m             \u001b[0;32mif\u001b[0m \u001b[0melapsed\u001b[0m \u001b[0;34m>\u001b[0m \u001b[0mself\u001b[0m\u001b[0;34m.\u001b[0m\u001b[0mtimeout\u001b[0m\u001b[0;34m:\u001b[0m\u001b[0;34m\u001b[0m\u001b[0;34m\u001b[0m\u001b[0m\n\u001b[0;32m---> 83\u001b[0;31m                 \u001b[0;32mraise\u001b[0m \u001b[0mrequests\u001b[0m\u001b[0;34m.\u001b[0m\u001b[0mTimeout\u001b[0m\u001b[0;34m(\u001b[0m\u001b[0;34mf\"Download took {elapsed} seconds, but timeout was set to {self.timeout}\"\u001b[0m\u001b[0;34m)\u001b[0m\u001b[0;34m\u001b[0m\u001b[0;34m\u001b[0m\u001b[0m\n\u001b[0m\u001b[1;32m     84\u001b[0m \u001b[0;34m\u001b[0m\u001b[0m\n\u001b[1;32m     85\u001b[0m     \u001b[0;34m@\u001b[0m\u001b[0mstaticmethod\u001b[0m\u001b[0;34m\u001b[0m\u001b[0;34m\u001b[0m\u001b[0m\n",
      "\u001b[0;31mTimeout\u001b[0m: Download took 1200.0897001830017 seconds, but timeout was set to 1200"
     ]
    }
   ],
   "source": [
    "# Download session metadata and LFP data for every selected probe\n",
    "for probe_id in tqdm(selected_probe_ids):\n",
    "    session = cache.get_session_data(cache.get_probes()[cache.get_probes().index==probe_id]['ecephys_session_id'].item())\n",
    "    lfp = session.get_lfp(probe_id)"
   ]
  },
  {
   "cell_type": "code",
   "execution_count": null,
   "id": "73f1dff0-f4ed-47ed-be89-1bcfa43a462a",
   "metadata": {},
   "outputs": [],
   "source": []
  }
 ],
 "metadata": {
  "kernelspec": {
   "display_name": "allendata",
   "language": "python",
   "name": "allendata"
  },
  "language_info": {
   "codemirror_mode": {
    "name": "ipython",
    "version": 3
   },
   "file_extension": ".py",
   "mimetype": "text/x-python",
   "name": "python",
   "nbconvert_exporter": "python",
   "pygments_lexer": "ipython3",
   "version": "3.7.15"
  }
 },
 "nbformat": 4,
 "nbformat_minor": 5
}
