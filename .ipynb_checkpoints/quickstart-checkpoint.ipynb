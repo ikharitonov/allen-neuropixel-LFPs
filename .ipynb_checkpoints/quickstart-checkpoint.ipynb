{
 "cells": [
  {
   "cell_type": "code",
   "execution_count": 1,
   "id": "0987b686-4f71-41dc-92b9-4d0de426093a",
   "metadata": {},
   "outputs": [],
   "source": [
    "# https://allensdk.readthedocs.io/en/latest/_static/examples/nb/ecephys_quickstart.html"
   ]
  },
  {
   "cell_type": "code",
   "execution_count": 5,
   "id": "04d5327c-32df-40f3-9c14-f573a510315c",
   "metadata": {},
   "outputs": [],
   "source": [
    "import os\n",
    "\n",
    "import numpy as np\n",
    "import pandas as pd\n",
    "import matplotlib.pyplot as plt\n",
    "from pathlib import Path\n",
    "\n",
    "from allensdk.brain_observatory.ecephys.ecephys_project_cache import EcephysProjectCache"
   ]
  },
  {
   "cell_type": "code",
   "execution_count": null,
   "id": "d9e49f44-648e-4c49-b3c2-a809d8b36247",
   "metadata": {},
   "outputs": [],
   "source": [
    "output_dir = Path.home() / 'Desktop' / 'ecephys_data'\n",
    "manifest_path = os.path.join(output_dir, \"manifest.json\")\n",
    "\n",
    "cache = EcephysProjectCache.from_warehouse(manifest=manifest_path)\n",
    "\n",
    "print(cache.get_all_session_types())"
   ]
  },
  {
   "cell_type": "code",
   "execution_count": null,
   "id": "0ed1a87f-b15f-4dc1-b21e-27957833f116",
   "metadata": {},
   "outputs": [],
   "source": [
    "sessions = cache.get_session_table()\n",
    "brain_observatory_type_sessions = sessions[sessions[\"session_type\"] == \"brain_observatory_1.1\"]\n",
    "brain_observatory_type_sessions.tail()"
   ]
  },
  {
   "cell_type": "code",
   "execution_count": null,
   "id": "68441a3f-6328-40cd-b039-eca30ec8828b",
   "metadata": {},
   "outputs": [],
   "source": []
  }
 ],
 "metadata": {
  "kernelspec": {
   "display_name": "allendata",
   "language": "python",
   "name": "allendata"
  },
  "language_info": {
   "codemirror_mode": {
    "name": "ipython",
    "version": 3
   },
   "file_extension": ".py",
   "mimetype": "text/x-python",
   "name": "python",
   "nbconvert_exporter": "python",
   "pygments_lexer": "ipython3",
   "version": "3.7.13"
  }
 },
 "nbformat": 4,
 "nbformat_minor": 5
}
