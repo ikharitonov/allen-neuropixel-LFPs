{
 "cells": [
  {
   "cell_type": "code",
   "execution_count": 1,
   "id": "c3b07184-0bdd-4c33-b707-cfe443a949c4",
   "metadata": {},
   "outputs": [],
   "source": [
    "import os\n",
    "\n",
    "import numpy as np\n",
    "import pandas as pd\n",
    "import matplotlib.pyplot as plt\n",
    "from pathlib import Path\n",
    "from scipy import signal\n",
    "\n",
    "from allensdk.brain_observatory.ecephys.ecephys_project_cache import EcephysProjectCache"
   ]
  },
  {
   "cell_type": "code",
   "execution_count": 2,
   "id": "6d24cf96-4545-4fb4-8ba2-8284ef85cd7d",
   "metadata": {},
   "outputs": [],
   "source": [
    "output_dir = Path.home() / 'Desktop' / 'disk1' / 'ecephys_data'\n",
    "\n",
    "cache = EcephysProjectCache.from_warehouse(manifest=output_dir / 'manifest.json')"
   ]
  },
  {
   "cell_type": "code",
   "execution_count": 3,
   "id": "c87e0670-c346-465e-9b9d-fcb32c62c628",
   "metadata": {},
   "outputs": [],
   "source": [
    "session_id = 715093703"
   ]
  },
  {
   "cell_type": "code",
   "execution_count": 4,
   "id": "4e27d0e1-65c5-4e4b-8c72-aa56eb81ba4a",
   "metadata": {},
   "outputs": [],
   "source": [
    "session = cache.get_session_data(session_id)"
   ]
  },
  {
   "cell_type": "code",
   "execution_count": 5,
   "id": "954760c6-282e-49f4-b779-184661592063",
   "metadata": {
    "tags": []
   },
   "outputs": [
    {
     "data": {
      "text/plain": [
       "CA1      145\n",
       "LP       139\n",
       "grey     117\n",
       "LGd       82\n",
       "PO        76\n",
       "VISrl     76\n",
       "VISp      60\n",
       "VISpm     50\n",
       "VISl      42\n",
       "VISam     30\n",
       "APN       26\n",
       "DG        26\n",
       "CA3       14\n",
       "PoT        1\n",
       "Name: ecephys_structure_acronym, dtype: int64"
      ]
     },
     "execution_count": 5,
     "metadata": {},
     "output_type": "execute_result"
    }
   ],
   "source": [
    "session.structurewise_unit_counts"
   ]
  },
  {
   "cell_type": "code",
   "execution_count": 6,
   "id": "a1241939-1084-4211-b967-45d2ffd49698",
   "metadata": {},
   "outputs": [
    {
     "data": {
      "text/html": [
       "<div>\n",
       "<style scoped>\n",
       "    .dataframe tbody tr th:only-of-type {\n",
       "        vertical-align: middle;\n",
       "    }\n",
       "\n",
       "    .dataframe tbody tr th {\n",
       "        vertical-align: top;\n",
       "    }\n",
       "\n",
       "    .dataframe thead th {\n",
       "        text-align: right;\n",
       "    }\n",
       "</style>\n",
       "<table border=\"1\" class=\"dataframe\">\n",
       "  <thead>\n",
       "    <tr style=\"text-align: right;\">\n",
       "      <th></th>\n",
       "      <th>description</th>\n",
       "      <th>location</th>\n",
       "      <th>sampling_rate</th>\n",
       "      <th>lfp_sampling_rate</th>\n",
       "      <th>has_lfp_data</th>\n",
       "    </tr>\n",
       "    <tr>\n",
       "      <th>id</th>\n",
       "      <th></th>\n",
       "      <th></th>\n",
       "      <th></th>\n",
       "      <th></th>\n",
       "      <th></th>\n",
       "    </tr>\n",
       "  </thead>\n",
       "  <tbody>\n",
       "    <tr>\n",
       "      <th>810755797</th>\n",
       "      <td>probeA</td>\n",
       "      <td>See electrode locations</td>\n",
       "      <td>29999.954846</td>\n",
       "      <td>1249.998119</td>\n",
       "      <td>True</td>\n",
       "    </tr>\n",
       "    <tr>\n",
       "      <th>810755799</th>\n",
       "      <td>probeB</td>\n",
       "      <td>See electrode locations</td>\n",
       "      <td>29999.906318</td>\n",
       "      <td>1249.996097</td>\n",
       "      <td>True</td>\n",
       "    </tr>\n",
       "    <tr>\n",
       "      <th>810755801</th>\n",
       "      <td>probeC</td>\n",
       "      <td>See electrode locations</td>\n",
       "      <td>29999.985470</td>\n",
       "      <td>1249.999395</td>\n",
       "      <td>True</td>\n",
       "    </tr>\n",
       "    <tr>\n",
       "      <th>810755803</th>\n",
       "      <td>probeD</td>\n",
       "      <td>See electrode locations</td>\n",
       "      <td>29999.908100</td>\n",
       "      <td>1249.996171</td>\n",
       "      <td>True</td>\n",
       "    </tr>\n",
       "    <tr>\n",
       "      <th>810755805</th>\n",
       "      <td>probeE</td>\n",
       "      <td>See electrode locations</td>\n",
       "      <td>29999.985679</td>\n",
       "      <td>1249.999403</td>\n",
       "      <td>True</td>\n",
       "    </tr>\n",
       "    <tr>\n",
       "      <th>810755807</th>\n",
       "      <td>probeF</td>\n",
       "      <td>See electrode locations</td>\n",
       "      <td>30000.028033</td>\n",
       "      <td>1250.001168</td>\n",
       "      <td>True</td>\n",
       "    </tr>\n",
       "  </tbody>\n",
       "</table>\n",
       "</div>"
      ],
      "text/plain": [
       "          description                 location  sampling_rate  \\\n",
       "id                                                              \n",
       "810755797      probeA  See electrode locations   29999.954846   \n",
       "810755799      probeB  See electrode locations   29999.906318   \n",
       "810755801      probeC  See electrode locations   29999.985470   \n",
       "810755803      probeD  See electrode locations   29999.908100   \n",
       "810755805      probeE  See electrode locations   29999.985679   \n",
       "810755807      probeF  See electrode locations   30000.028033   \n",
       "\n",
       "           lfp_sampling_rate  has_lfp_data  \n",
       "id                                          \n",
       "810755797        1249.998119          True  \n",
       "810755799        1249.996097          True  \n",
       "810755801        1249.999395          True  \n",
       "810755803        1249.996171          True  \n",
       "810755805        1249.999403          True  \n",
       "810755807        1250.001168          True  "
      ]
     },
     "execution_count": 6,
     "metadata": {},
     "output_type": "execute_result"
    }
   ],
   "source": [
    "session.probes"
   ]
  },
  {
   "cell_type": "code",
   "execution_count": 7,
   "id": "c6aedba3-a422-4899-bf3a-282f49920a1e",
   "metadata": {},
   "outputs": [],
   "source": [
    "selected_probe_id = 810755799 # VISpm\n",
    "# selected_probe_id = 810755801 # VISp"
   ]
  },
  {
   "cell_type": "code",
   "execution_count": null,
   "id": "5308493d-0679-463a-ae52-b4140d828632",
   "metadata": {},
   "outputs": [],
   "source": [
    "lfp = session.get_lfp(selected_probe_id)\n",
    "lfp"
   ]
  },
  {
   "cell_type": "markdown",
   "id": "b9ffdac8-aa77-45c1-af5a-1ac9ee55219d",
   "metadata": {},
   "source": [
    "### Relating channel unique indices and local probe indices"
   ]
  },
  {
   "cell_type": "code",
   "execution_count": null,
   "id": "7c35f0e1-4bfa-4734-826e-aa8f5b931c34",
   "metadata": {},
   "outputs": [],
   "source": [
    "lfp = lfp.drop_sel(channel=850262820) # dropped because channel 850262820 is not present in cache.get_channels()"
   ]
  },
  {
   "cell_type": "code",
   "execution_count": null,
   "id": "3c31b2bc-98a6-49d4-9470-93199d5d9455",
   "metadata": {},
   "outputs": [],
   "source": [
    "lfp_channel_indices = cache.get_channels().loc[lfp.channel.values].local_index.values"
   ]
  },
  {
   "cell_type": "code",
   "execution_count": null,
   "id": "77024ca4-1b7a-44c7-942f-effe3d1deb78",
   "metadata": {},
   "outputs": [],
   "source": [
    "lfp_channel_indices"
   ]
  },
  {
   "cell_type": "code",
   "execution_count": null,
   "id": "6fb27430-cacd-4a19-b8aa-ca7de278ba24",
   "metadata": {},
   "outputs": [],
   "source": [
    "temp_channels_df = cache.get_channels()\n",
    "lfp_channel_dict = {temp_channels_df.loc[k].local_index.item():k  for k in lfp.channel.values}"
   ]
  },
  {
   "cell_type": "code",
   "execution_count": null,
   "id": "0f019ac5-cd92-4053-a9b1-420489b869f9",
   "metadata": {},
   "outputs": [],
   "source": [
    "print(len(lfp_channel_dict))\n",
    "print(lfp_channel_dict)"
   ]
  },
  {
   "cell_type": "markdown",
   "id": "ef2e93ba-54b9-4605-a23d-b0c759e88bde",
   "metadata": {},
   "source": [
    "### Plotting LFP with annotated regions"
   ]
  },
  {
   "cell_type": "code",
   "execution_count": null,
   "id": "2b390e1f-8079-4493-ba35-550979ae95ad",
   "metadata": {},
   "outputs": [],
   "source": [
    "structure_acronyms, intervals = session.channel_structure_intervals(lfp[\"channel\"])\n",
    "interval_midpoints = [aa + (bb - aa) / 2 for aa, bb in zip(intervals[:-1], intervals[1:])]\n",
    "\n",
    "print('FirstChannel--Structure--LastChannel')\n",
    "for aa, bb, i in zip(intervals[:-1], intervals[1:], range(len(intervals))): print(f'{aa}--{structure_acronyms[i]}--{bb}')"
   ]
  },
  {
   "cell_type": "code",
   "execution_count": null,
   "id": "a82dfb22-9b00-45e1-be1a-dc47d1f65b10",
   "metadata": {},
   "outputs": [],
   "source": [
    "lfp_slice = lfp.sel(time=slice(129,130))\n",
    "\n",
    "fig, ax = plt.subplots(figsize=(10,12))\n",
    "pcolormesh_obj = ax.pcolormesh(lfp_slice.T)\n",
    "\n",
    "# Plotting structure names + intervals on y-axis\n",
    "ax.set_yticks(intervals)\n",
    "ax.set_yticks(interval_midpoints, minor=True)\n",
    "ax.set_yticklabels(structure_acronyms, minor=True)\n",
    "ax.tick_params(\"y\", which=\"major\", labelleft=False, length=40)\n",
    "\n",
    "# Plotting time instead of samples on x-axis\n",
    "num_time_labels = 10\n",
    "time_label_indices = np.around(np.linspace(1, len(lfp_slice[\"time\"]), num_time_labels)).astype(int) - 1\n",
    "time_labels = np.around(lfp_slice[\"time\"][time_label_indices].data, decimals=1)\n",
    "ax.set_xticks(time_label_indices + 0.5)\n",
    "ax.set_xticklabels(time_labels)\n",
    "ax.set_xlabel(\"time (s)\", fontsize=20)\n",
    "\n",
    "fig.colorbar(pcolormesh_obj, fraction=0.036, pad=0.04)\n",
    "\n",
    "plt.show()"
   ]
  },
  {
   "cell_type": "code",
   "execution_count": null,
   "id": "6903f9e8-3bba-4173-8084-b8d7f8baedfd",
   "metadata": {},
   "outputs": [],
   "source": [
    "lfp_slice = lfp.sel(time=slice(129,130))\n",
    "\n",
    "channel_num = 50 # CA1\n",
    "channel_id = lfp_channel_dict[list(lfp_channel_dict.keys())[channel_num]] # to get the channel ID of 50th LFP local index, not of lFP local index = 50\n",
    "plt.title(f\"channel number {channel_num} local probe index {list(lfp_channel_dict.keys())[channel_num]} channel ID {channel_id}\")\n",
    "plt.plot(lfp_slice.time, lfp_slice.sel(channel=channel_id))\n",
    "plt.show()\n",
    "\n",
    "channel_num = 70 # VISp\n",
    "channel_id = lfp_channel_dict[list(lfp_channel_dict.keys())[channel_num]]\n",
    "plt.title(f\"channel number {channel_num} local probe index {list(lfp_channel_dict.keys())[channel_num]} channel ID {channel_id}\")\n",
    "plt.plot(lfp_slice.time, lfp_slice.sel(channel=channel_id))\n",
    "plt.show()"
   ]
  },
  {
   "cell_type": "code",
   "execution_count": null,
   "id": "c25ac4d7-2f84-400e-bb95-50d0ba136c84",
   "metadata": {},
   "outputs": [],
   "source": [
    "str_num = 1 # number of the structure from above (e.g. CA1 = 4th)\n",
    "\n",
    "lfp_slice = lfp.sel(time=slice(129,130))\n",
    "\n",
    "structure_traces = lfp_slice[:,intervals[str_num]:intervals[str_num+1]] # selecting all the timepoints in lfp_slice and channels within the range of i-th structure\n",
    "\n",
    "mean_structure_trace = structure_traces.data.mean(axis=1)\n",
    "\n",
    "plt.figure(figsize=(10,8))\n",
    "plt.plot(mean_structure_trace)\n",
    "\n",
    "# Plotting time instead of samples on x-axis\n",
    "num_time_labels = 10\n",
    "time_label_indices = np.around(np.linspace(1, len(lfp_slice[\"time\"]), num_time_labels)).astype(int) - 1\n",
    "time_labels = np.around(lfp_slice[\"time\"][time_label_indices].data, decimals=1)\n",
    "plt.gca().set_xticks(time_label_indices + 0.5)\n",
    "plt.gca().set_xticklabels(time_labels)\n",
    "plt.gca().set_xlabel(\"time (s)\", fontsize=20)\n",
    "plt.gca().set_ylabel(\"LFP amplitude (V)\", fontsize=20)\n",
    "\n",
    "plt.title(f'LFP trace averaged over all channels in {structure_acronyms[str_num]}', fontsize=20)\n",
    "\n",
    "plt.show()"
   ]
  },
  {
   "cell_type": "markdown",
   "id": "5bab3fd6-dfcd-4fa1-a32b-c09f0f2e5155",
   "metadata": {},
   "source": [
    "### Computing Current Source Density and locating layer 5 in primary visual cortex"
   ]
  },
  {
   "cell_type": "code",
   "execution_count": null,
   "id": "b4ca9b51-d4e1-4756-bc25-fb26c5f3a67f",
   "metadata": {},
   "outputs": [],
   "source": [
    "VISp_channels_vertical_positions = session.channels[(session.channels.probe_id==selected_probe_id) & (session.channels.ecephys_structure_acronym=='VISp')].probe_vertical_position\n",
    "print(f'VISp veritcal extent: {VISp_channels_vertical_positions.min()}um - {VISp_channels_vertical_positions.max()}um')"
   ]
  },
  {
   "cell_type": "code",
   "execution_count": null,
   "id": "29cf3656-0c69-4d00-8caa-93a0d829898c",
   "metadata": {},
   "outputs": [],
   "source": [
    "from scipy.ndimage.filters import gaussian_filter\n",
    "\n",
    "csd = session.get_current_source_density(selected_probe_id)\n",
    "\n",
    "filtered_csd = gaussian_filter(csd.data, sigma=4)\n",
    "\n",
    "fig, ax = plt.subplots(nrows=1,ncols=2,figsize=(20, 12))\n",
    "pcolor_obj = ax[0].pcolor(csd[\"time\"], csd[\"vertical_position\"], filtered_csd, cmap='coolwarm_r')\n",
    "\n",
    "ax[0].set_xlabel(\"time relative to stimulus onset (s)\", fontsize=20)\n",
    "ax[0].set_ylabel(\"vertical position (um)\", fontsize=20)\n",
    "\n",
    "ax[0].axhline(y=2500, color='r', linestyle='-')\n",
    "ax[0].axhline(y=3420, color='r', linestyle='-')\n",
    "ax[0].set_title('CSD (VISp in red)', fontsize=20)\n",
    "\n",
    "\n",
    "\n",
    "csd_slice = csd.sel(virtual_channel_index=slice(250,350))\n",
    "filtered_csd = gaussian_filter(csd_slice.data, sigma=4)\n",
    "ax[1].pcolor(csd_slice[\"time\"], csd_slice[\"vertical_position\"], filtered_csd, cmap='coolwarm_r')\n",
    "ax[1].set_xlabel(\"time relative to stimulus onset (s)\", fontsize=20)\n",
    "ax[1].set_ylabel(\"vertical position (um)\", fontsize=20)\n",
    "ax[1].set_title('CSD zoom (VISp layer 5 in blue)', fontsize=20)\n",
    "\n",
    "ax[1].axhline(y=2500, color='r', linestyle='-')\n",
    "ax[1].axhline(y=3420, color='r', linestyle='-')\n",
    "\n",
    "ax[1].axhline(y=2950, color='b', linestyle='-')\n",
    "ax[1].axhline(y=3200, color='b', linestyle='-')\n",
    "\n",
    "fig.colorbar(pcolor_obj, fraction=0.036, pad=0.04)\n",
    "\n",
    "plt.show()"
   ]
  },
  {
   "cell_type": "markdown",
   "id": "4ba8e7d5-28a6-4e0b-a60e-411056d04e4d",
   "metadata": {},
   "source": [
    "### Looking at channels in VISp layer 5"
   ]
  },
  {
   "cell_type": "code",
   "execution_count": null,
   "id": "37b8b553-55a4-4a42-b2c4-e761b07c48e1",
   "metadata": {},
   "outputs": [],
   "source": [
    "chosen_layer5 = [2950,3200]"
   ]
  },
  {
   "cell_type": "code",
   "execution_count": null,
   "id": "8892fdfa-1011-45b4-b0c4-98aaafca843a",
   "metadata": {},
   "outputs": [],
   "source": [
    "channel_df = cache.get_channels()\n",
    "channel_df = channel_df[channel_df['ecephys_probe_id']==selected_probe_id]\n",
    "print(len(channel_df))\n",
    "channel_df.head()"
   ]
  },
  {
   "cell_type": "markdown",
   "id": "9babfe5d-a024-4dda-8a0b-15e3e06efb30",
   "metadata": {},
   "source": [
    "These channels are within chosen layer 5 in terms of verical distance, but not all of them are associated with LFP recordings:"
   ]
  },
  {
   "cell_type": "code",
   "execution_count": null,
   "id": "34caf956-d31b-4851-988f-c889cd2c9258",
   "metadata": {},
   "outputs": [],
   "source": [
    "layer5_channels_df = channel_df[(channel_df['probe_vertical_position']>=chosen_layer5[0]) & (channel_df['probe_vertical_position']<chosen_layer5[1])]\n",
    "print(len(layer5_channels_df))\n",
    "layer5_channels_df"
   ]
  },
  {
   "cell_type": "markdown",
   "id": "f2173f0f-6eb1-4710-b7b2-68568af4c8d4",
   "metadata": {},
   "source": [
    "Checking which channels pulled from general channel list of this probe AND in vertical range established from CSD analysis (corresponding to layer 5), are available in full LFP trace time series data:"
   ]
  },
  {
   "cell_type": "code",
   "execution_count": null,
   "id": "c5a5e1a6-b920-4255-ae25-4c02c1a07539",
   "metadata": {},
   "outputs": [],
   "source": [
    "print('Channel ID -','Local Probe Index -','Channel Number')\n",
    "for ch in lfp.channel.data:\n",
    "    if len(layer5_channels_df[layer5_channels_df.index==ch])!=0:\n",
    "        local_index = layer5_channels_df[layer5_channels_df.index==ch]['local_index'].item()\n",
    "        channel_num = list(lfp_channel_dict.keys()).index(local_index)\n",
    "        print(ch, local_index, channel_num)"
   ]
  },
  {
   "cell_type": "code",
   "execution_count": null,
   "id": "489d1f6b-0496-442b-a903-7b993608c5c9",
   "metadata": {},
   "outputs": [],
   "source": [
    "channel_ids = session.channels[(session.channels.probe_id == selected_probe_id) & \\\n",
    "                 (session.channels.ecephys_structure_acronym.isin(['VISpm']))].index.values\n",
    "\n",
    "lfp_slice2 = lfp_slice.sel(channel=slice(np.min(channel_ids), np.max(channel_ids)))\n",
    "\n",
    "fig,ax = plt.subplots(figsize=(10,8))\n",
    "im = plt.imshow(lfp_slice2.T,aspect='auto',origin='lower')\n",
    "# im = ax.pcolormesh(lfp_slice2.T)\n",
    "\n",
    "fig.colorbar(im, fraction=0.036, pad=0.04)\n",
    "\n",
    "# Plotting time instead of samples on x-axis\n",
    "num_time_labels = 10\n",
    "time_label_indices = np.around(np.linspace(1, len(lfp_slice2[\"time\"]), num_time_labels)).astype(int) - 1\n",
    "time_labels = np.around(lfp_slice2[\"time\"][time_label_indices].data, decimals=1)\n",
    "ax.set_xticks(time_label_indices + 0.5)\n",
    "ax.set_xticklabels(time_labels)\n",
    "ax.set_xlabel(\"time (s)\", fontsize=20)\n",
    "\n",
    "# Plotting channel IDs on y-axis\n",
    "num_y_labels = len(lfp_slice2['channel'])\n",
    "y_label_indices = np.around(np.linspace(1, len(lfp_slice2[\"channel\"]), num_y_labels)).astype(int) - 1\n",
    "ax.set_yticks(y_label_indices + 0.5)\n",
    "ax.set_yticklabels(lfp_slice2['channel'].data)\n",
    "ax.set_ylabel('Channel ID', fontsize=20)\n",
    "\n",
    "# plotting layer 5\n",
    "line1 = list(lfp_slice2['channel'].data).index(850261782) # to get the index of bordering channels\n",
    "line2 = list(lfp_slice2['channel'].data).index(850261822)+1\n",
    "ax.axhline(y=line1, color='b', linestyle='-')\n",
    "ax.axhline(y=line2, color='b', linestyle='-')\n",
    "\n",
    "ax.set_title('Closer look at VISp', fontsize=20)\n",
    "\n",
    "plt.show()"
   ]
  },
  {
   "cell_type": "markdown",
   "id": "9e56e6b7-a50e-44a4-b589-3da0583aa4b4",
   "metadata": {},
   "source": [
    "### Aligning LFP to stimulus presentations"
   ]
  },
  {
   "cell_type": "code",
   "execution_count": null,
   "id": "9ba9f08a-3951-4d3e-bfc1-f331612820df",
   "metadata": {},
   "outputs": [],
   "source": [
    "stim_epochs = session.get_stimulus_epochs()\n",
    "stim_epochs"
   ]
  },
  {
   "cell_type": "code",
   "execution_count": null,
   "id": "94e4da07-9f8d-4d73-a82f-3360f02816a3",
   "metadata": {},
   "outputs": [],
   "source": [
    "stim_flashes = session.get_stimulus_table(['flashes'])\n",
    "# equally stim_flashes = session.stimulus_presentations[session.stimulus_presentations.stimulus_name=='flashes']\n",
    "stim_flashes"
   ]
  },
  {
   "cell_type": "code",
   "execution_count": null,
   "id": "61a643cc-18b5-4779-9560-6df7daf49e5e",
   "metadata": {},
   "outputs": [],
   "source": [
    "stim_flashes['stimulus_condition_id'].unique()"
   ]
  },
  {
   "cell_type": "code",
   "execution_count": null,
   "id": "eb171fea-7d25-4d1c-90cf-0d2f71096771",
   "metadata": {},
   "outputs": [],
   "source": [
    "presentation_times = stim_flashes.start_time.values\n",
    "presentation_ids = stim_flashes.index.values"
   ]
  },
  {
   "cell_type": "code",
   "execution_count": null,
   "id": "fb83acfc-228f-485b-8484-dacded525b99",
   "metadata": {},
   "outputs": [],
   "source": [
    "trial_window = np.arange(-0.5, 0.5, 1/500) # np.arange(start, stop, step)\n",
    "# Trial window array (including 0.5s before and 0.5s after stimulus) is added to each timepoint linked to flash stimulus presentation\n",
    "# Then all of these stim-presentation-related trial windows are concatenated into a single array\n",
    "time_selection = np.concatenate([trial_window + t for t in presentation_times])"
   ]
  },
  {
   "cell_type": "markdown",
   "id": "db156427-6604-4cbe-b434-843b61c757c5",
   "metadata": {},
   "source": [
    "__Important to note that 1/500 increment here corresponds to downsampling to 500Hz__"
   ]
  },
  {
   "cell_type": "code",
   "execution_count": null,
   "id": "e90be5d7-b396-4f7c-b06f-a31c48ca756e",
   "metadata": {},
   "outputs": [],
   "source": [
    "# This repeatedly assigns basic trial window values (-0.5s:0.5s) to every stimulus presentation id, under the column label of 'time_from_presentation_onset'\n",
    "inds = pd.MultiIndex.from_product((presentation_ids, trial_window), \n",
    "                                  names=('presentation_id', 'time_from_presentation_onset'))"
   ]
  },
  {
   "cell_type": "code",
   "execution_count": null,
   "id": "302ea090-1f7b-4613-b6f9-44ab41f71234",
   "metadata": {},
   "outputs": [],
   "source": [
    "# Selecting LFP data at trial window constrained flash presentation times by the nearest value available\n",
    "# Saving this into a newly created 'aligned_lfp' inside of xarray dataset\n",
    "dataset = lfp.sel(time = time_selection, method='nearest').to_dataset(name = 'aligned_lfp')\n",
    "# Assigning new variabes ('presentation_id' and 'time_from_presentation_onset' from inds) to the xarray dataset\n",
    "# Removing time variable\n",
    "# Now, for each presentation_id, there is a corresponding time_from_presentation_onset-long array of LFP data for all the channels\n",
    "dataset = dataset.assign(time=inds).unstack('time')\n",
    "aligned_lfp = dataset['aligned_lfp']"
   ]
  },
  {
   "cell_type": "code",
   "execution_count": null,
   "id": "d71b56d7-0f2f-4bcc-904a-207b860bffd3",
   "metadata": {},
   "outputs": [],
   "source": [
    "aligned_lfp"
   ]
  },
  {
   "cell_type": "markdown",
   "id": "5a3ce263-d5d8-45be-96e1-b3e54b7d09bf",
   "metadata": {},
   "source": [
    "Channel ID - Local Probe Index - Channel Number</br>\n",
    "850261782 294 73</br>\n",
    "850261790 298 74</br>\n",
    "850261798 302 75</br>\n",
    "850261806 306 76</br>\n",
    "850261814 310 77</br>\n",
    "850261822 314 78</br>"
   ]
  },
  {
   "cell_type": "code",
   "execution_count": null,
   "id": "bf762766-05fb-4d02-8782-9a7e5b8c62c1",
   "metadata": {},
   "outputs": [],
   "source": [
    "L5VISp_stim_aligned_lfp = aligned_lfp.sel(channel=slice(850261782, 850261822))\n",
    "L5VISp_stim_aligned_lfp"
   ]
  },
  {
   "cell_type": "code",
   "execution_count": null,
   "id": "4281a616-864b-4e78-8f6f-e06569340c51",
   "metadata": {},
   "outputs": [],
   "source": [
    "mean_channel_L5VISp_stim_aligned_lfp = L5VISp_stim_aligned_lfp.mean(dim='channel')\n",
    "mean_channel_L5VISp_stim_aligned_lfp"
   ]
  },
  {
   "cell_type": "markdown",
   "id": "cf444633-13fb-47ba-995e-f96bb5f67246",
   "metadata": {},
   "source": [
    "### Flash stimuli"
   ]
  },
  {
   "cell_type": "code",
   "execution_count": null,
   "id": "8d0562de-9b0b-490f-84c2-2c6b5fe2490a",
   "metadata": {},
   "outputs": [],
   "source": [
    "stim_epochs.head()"
   ]
  },
  {
   "cell_type": "code",
   "execution_count": null,
   "id": "6d7a524a-38b7-45ab-99c1-4e14fda7f75a",
   "metadata": {},
   "outputs": [],
   "source": [
    "flash_index = stim_epochs[stim_epochs.stimulus_name=='flashes'].index.item()\n",
    "\n",
    "print('No stimulus block before flashes:')\n",
    "print(stim_epochs[stim_epochs.index==flash_index-1])\n",
    "print('\\nFlashes block:')\n",
    "print(stim_epochs[stim_epochs.index==flash_index])\n",
    "print('\\nNo stimulus block after flashes:')\n",
    "print(stim_epochs[stim_epochs.index==flash_index+1])"
   ]
  },
  {
   "cell_type": "code",
   "execution_count": null,
   "id": "0d23a37e-400d-4d1b-872e-fb5c93d94fd3",
   "metadata": {},
   "outputs": [],
   "source": [
    "start_time = stim_epochs[stim_epochs.index==flash_index-1].start_time.item()\n",
    "end_time = stim_epochs[stim_epochs.index==flash_index+1].stop_time.item()\n",
    "\n",
    "print(f'Looking at {start_time}s - {end_time}s time range')"
   ]
  },
  {
   "cell_type": "code",
   "execution_count": null,
   "id": "e6b79656-096a-42d9-8acd-ee654e5bc47c",
   "metadata": {},
   "outputs": [],
   "source": [
    "lfp_slice = lfp.sel(time=slice(start_time,end_time))\n",
    "lfp_slice"
   ]
  },
  {
   "cell_type": "code",
   "execution_count": null,
   "id": "8379a259-f919-45a5-8427-13fc17b71479",
   "metadata": {},
   "outputs": [],
   "source": [
    "stim_flashes.head()"
   ]
  },
  {
   "cell_type": "code",
   "execution_count": null,
   "id": "e10a17b4-539a-45c5-bc49-0873f38c23f3",
   "metadata": {},
   "outputs": [],
   "source": [
    "flash_times = stim_flashes[['stimulus_condition_id','start_time','stop_time']].to_numpy()\n",
    "flash_times.shape"
   ]
  },
  {
   "cell_type": "code",
   "execution_count": null,
   "id": "79e008e0-753c-492a-88ce-592e11c291f5",
   "metadata": {},
   "outputs": [],
   "source": [
    "# Putting flash_times array into another format for plotting\n",
    "temp_array = []\n",
    "for i in range(flash_times.shape[0]):\n",
    "    if flash_times[i,0]==244: val = -1\n",
    "    else: val = 1\n",
    "    temp_array.append([flash_times[i,1],0])\n",
    "    temp_array.append([flash_times[i,1],val])\n",
    "    temp_array.append([flash_times[i,2],val])\n",
    "    temp_array.append([flash_times[i,2],0])\n",
    "plot_format_flash_times = np.array(temp_array)"
   ]
  },
  {
   "cell_type": "code",
   "execution_count": null,
   "id": "c9b5368b-a79d-4582-9458-a527af8a41d9",
   "metadata": {},
   "outputs": [],
   "source": [
    "fig,ax = plt.subplots(nrows=2,ncols=1,figsize=(20,16))\n",
    "\n",
    "ax[0].set_title('full flashes block',fontsize=15)\n",
    "ax[0].set_yticks([-1,0,1])\n",
    "ax[0].set_yticklabels(['condition 244','grey screen','condition 245'],fontsize=15)\n",
    "ax[0].plot(plot_format_flash_times[:,0],plot_format_flash_times[:,1])\n",
    "\n",
    "ax[1].set_title('1300s-1330s zoom flashes block',fontsize=15)\n",
    "ax[1].set_yticks([-1,0,1])\n",
    "ax[1].set_yticklabels(['condition 244','grey screen','condition 245'],fontsize=15)\n",
    "ax[1].plot(plot_format_flash_times[:,0],plot_format_flash_times[:,1])\n",
    "ax[1].set_xlim([1300,1330])\n",
    "\n",
    "plt.show()"
   ]
  },
  {
   "cell_type": "markdown",
   "id": "25c1f9ee-b1b1-476a-a16c-1b16bc438777",
   "metadata": {},
   "source": [
    "Flash stimuli are not alternating. As described in Neuropixels Visual Coding White Paper:</br>\n",
    "\"The receptive field mapping stimulus was followed by a series of dark or light fullfield flashes, lasting 250 ms each and separated by a 2 second inter-trial interval.\""
   ]
  },
  {
   "cell_type": "markdown",
   "id": "ca7c508e-5c7e-44cb-ab64-3ac9bba18ff2",
   "metadata": {},
   "source": [
    "### Spectrograms"
   ]
  },
  {
   "cell_type": "code",
   "execution_count": null,
   "id": "675d1899-6897-45ac-85fc-19bcefc6d740",
   "metadata": {},
   "outputs": [],
   "source": [
    "lfp_slice = lfp.sel(time=slice(start_time,end_time)).sel(channel=slice(850263324, 850263364))\n",
    "lfp_slice"
   ]
  },
  {
   "cell_type": "code",
   "execution_count": null,
   "id": "d047568d-3c26-4d2b-91d9-68e95ad3ec8b",
   "metadata": {},
   "outputs": [],
   "source": [
    "ch = 850263348"
   ]
  },
  {
   "cell_type": "code",
   "execution_count": null,
   "id": "aa90762f-6789-446b-aa84-420632f7b00c",
   "metadata": {},
   "outputs": [],
   "source": [
    "data = lfp_slice.sel(channel=ch)\n",
    "# data = lfp_slice.mean(dim='channel')\n",
    "data.shape"
   ]
  },
  {
   "cell_type": "code",
   "execution_count": null,
   "id": "6193705f-025e-421f-892f-bf8dd3447865",
   "metadata": {},
   "outputs": [],
   "source": [
    "print(f'LFP for channel {ch} was sampled at {layer5_channels_df[layer5_channels_df.index==ch].lfp_sampling_rate.item()} Hz')"
   ]
  },
  {
   "cell_type": "code",
   "execution_count": null,
   "id": "33c61404-1ff3-48ef-b2e3-73e8d19bb7d0",
   "metadata": {},
   "outputs": [],
   "source": [
    "from matplotlib.patches import Rectangle"
   ]
  },
  {
   "cell_type": "code",
   "execution_count": null,
   "id": "e0137cf5-65aa-4768-867f-6fc7753f79f0",
   "metadata": {},
   "outputs": [],
   "source": [
    "stim_flashes.head()"
   ]
  },
  {
   "cell_type": "markdown",
   "id": "29584dcd-af4a-4b0d-97df-78f6df4f656f",
   "metadata": {},
   "source": [
    "<b>Matplotlib Specgram</b>"
   ]
  },
  {
   "cell_type": "code",
   "execution_count": null,
   "id": "f274080e-084e-47a4-9f2d-517d36c4574e",
   "metadata": {},
   "outputs": [],
   "source": [
    "fig,ax = plt.subplots(figsize=(20,8))\n",
    "\n",
    "powerSpectrum, freqenciesFound, time, imageAxis = ax.specgram(data,Fs=1250,xextent=(start_time,end_time))\n",
    "\n",
    "# ax.axvline(x=stim_flashes.iloc[0].start_time,c='r')\n",
    "# ax.axvline(x=stim_flashes.iloc[-1].stop_time,c='r')\n",
    "\n",
    "col = {244:'black',245:'white'}\n",
    "for stim in stim_flashes.iterrows():\n",
    "    stim = stim[1]\n",
    "    ax.add_patch(Rectangle((stim.start_time,0),stim.duration,freqenciesFound.max(),facecolor=col[stim.stimulus_condition_id],alpha=0.5))\n",
    "\n",
    "ax.set_xlabel(\"time (s)\", fontsize=15)\n",
    "ax.set_ylabel(\"frequency (Hz)\", fontsize=15)\n",
    "    \n",
    "# ax.set_xlim([1300,1400])\n",
    "ax.set_ylim([0,100])\n",
    "\n",
    "ax.set_title('Matplotlib Specgram')\n",
    "\n",
    "fig.colorbar(imageAxis, fraction=0.036, pad=0.04)\n",
    "\n",
    "plt.show()"
   ]
  },
  {
   "cell_type": "markdown",
   "id": "f6b79084-7fbd-4dd4-beb8-e7abe1b5b2b6",
   "metadata": {},
   "source": [
    "<b>SciPy</b>"
   ]
  },
  {
   "cell_type": "code",
   "execution_count": null,
   "id": "354d36ce-957e-4d19-a114-749d0a06b8ff",
   "metadata": {},
   "outputs": [],
   "source": [
    "fig,ax = plt.subplots(figsize=(20,8))\n",
    "\n",
    "frequencies, time, spectrogram = signal.spectrogram(data,fs=1250, nperseg=1024, noverlap=512, window='hann')\n",
    "\n",
    "# ax.axvline(x=stim_flashes.iloc[0].start_time,c='r')\n",
    "# ax.axvline(x=stim_flashes.iloc[-1].stop_time,c='r')\n",
    "\n",
    "# col = {244:'black',245:'white'}\n",
    "# for stim in stim_flashes.iterrows():\n",
    "#     stim = stim[1]\n",
    "#     ax.add_patch(Rectangle((stim.start_time,0),stim.duration,freqenciesFound.max(),facecolor=col[stim.stimulus_condition_id],alpha=1))\n",
    "\n",
    "x_ticks_list = data.time.data\n",
    "ax.set_xticks(np.linspace(0,time.shape[0],num=10))\n",
    "ax.set_xticklabels(np.linspace(x_ticks_list[0],x_ticks_list[-1], num=10).astype(int))\n",
    "\n",
    "ax.set_xlabel(\"time (s)\", fontsize=15)\n",
    "ax.set_ylabel(\"frequency (Hz)\", fontsize=15)\n",
    "\n",
    "# ax.set_xlim([1300,1400])\n",
    "ax.set_ylim([0,100])\n",
    "\n",
    "im = plt.imshow(10*np.log10(spectrogram),aspect='auto',origin='lower')\n",
    "\n",
    "ax.set_title('SciPy Spectrogram')\n",
    "\n",
    "fig.colorbar(im, fraction=0.036, pad=0.04)\n",
    "\n",
    "plt.show()"
   ]
  },
  {
   "cell_type": "markdown",
   "id": "8fdd0b12-8310-4695-8252-ba05d0de7735",
   "metadata": {},
   "source": [
    "<b>Wavelet Transform</b>"
   ]
  },
  {
   "cell_type": "code",
   "execution_count": null,
   "id": "f002bcba-311f-458d-bbe7-b1413be665ed",
   "metadata": {},
   "outputs": [],
   "source": [
    "# Collect flash stimulus presentations (coordinates) into array\n",
    "coords = []\n",
    "for stim in stim_flashes.iterrows():\n",
    "    stim = stim[1]\n",
    "    start_time_index = np.absolute(data.time.data - stim.start_time).argmin()\n",
    "    end_time_index = np.absolute(data.time.data-(stim.start_time + stim.duration)).argmin()\n",
    "    coords.append([start_time_index, 0, end_time_index, 1000, stim.stimulus_condition_id])"
   ]
  },
  {
   "cell_type": "code",
   "execution_count": null,
   "id": "16c6f67c-cf27-49e4-b289-0a67ea296dc5",
   "metadata": {
    "tags": []
   },
   "outputs": [],
   "source": [
    "# https://elephant.readthedocs.io/en/latest/reference/_toctree/signal_processing/elephant.signal_processing.wavelet_transform.html\n",
    "from elephant.signal_processing import wavelet_transform\n",
    "\n",
    "def plot_wt(data, freq_list, fs, plot_flashes=False):\n",
    "    wt_data = wavelet_transform(data, frequency=freq_list, sampling_frequency=fs)\n",
    "    \n",
    "    fig,ax = plt.subplots(figsize=(20,8))\n",
    "    im = ax.imshow(np.abs(wt_data)[:,:],aspect='auto',origin='lower')\n",
    "    \n",
    "    x_ticks_list = data.time.data\n",
    "\n",
    "    ax.set_xticks(np.linspace(0,wt_data.shape[1],num=10))\n",
    "    ax.set_xticklabels(np.linspace(x_ticks_list[0],x_ticks_list[-1], num=10).astype(int))\n",
    "    ax.set_yticks(np.linspace(1,len(freq_list)-1,num=10))\n",
    "    ax.set_yticklabels(np.arange(1,11))\n",
    "\n",
    "    ax.set_xlabel(\"time (s)\", fontsize=15)\n",
    "    ax.set_ylabel(\"frequency (Hz)\", fontsize=15)\n",
    "\n",
    "    ax.set_title('Morlet Wavelet Transform')\n",
    "    \n",
    "    if plot_flashes:\n",
    "        col = {244:'white',245:'green'}\n",
    "        for c in coords:\n",
    "            index = np.absolute(data.time.data - c[0]).argmin() # getting the index of the closest timepoint\n",
    "            ax.add_patch(Rectangle((c[0],c[1]),c[2],c[3],facecolor=col[c[4]],alpha=0.5))\n",
    "    # ax.add_patch(Rectangle((coords[15][0],coords[15][1]),coords[15][2],coords[15][3],facecolor=col[coords[15][4]],alpha=0.5))\n",
    "    ax.add_patch(Rectangle((np.absolute(data.time.data - 1303).argmin(),0),np.absolute(data.time.data - 1306).argmin(),5,facecolor='white',alpha=1))\n",
    "\n",
    "    fig.colorbar(im, fraction=0.036, pad=0.04)\n",
    "    # plt.xlim([1300,1306])|\n",
    "\n",
    "    plt.show()\n",
    "    return wt_data"
   ]
  },
  {
   "cell_type": "code",
   "execution_count": null,
   "id": "00e6b611-2cc3-4b62-90dd-a9c2623863b5",
   "metadata": {},
   "outputs": [],
   "source": [
    "freq_list = np.arange(1,100,9/50)\n",
    "print(freq_list)\n",
    "wt_data = plot_wt(data,freq_list,1250)"
   ]
  },
  {
   "cell_type": "code",
   "execution_count": null,
   "id": "7e4ea4e5-2a6e-45e1-b63d-feda8039262d",
   "metadata": {},
   "outputs": [],
   "source": [
    "freq_list = np.arange(1,10,9/50)\n",
    "print(freq_list)\n",
    "\n",
    "data1 = data.sel(time=slice(1300,1331))\n",
    "wt_data1 = plot_wt(data1,freq_list,1250, plot_flashes=True)"
   ]
  },
  {
   "cell_type": "code",
   "execution_count": null,
   "id": "abee285e-5acc-4da4-b7d4-f5fc6f0d9dc4",
   "metadata": {},
   "outputs": [],
   "source": [
    "index = np.absolute(data1.time.data - 1330).argmin()\n",
    "index"
   ]
  },
  {
   "cell_type": "code",
   "execution_count": null,
   "id": "2da027b3-cd8c-486d-811e-1f8d6fdb6fcc",
   "metadata": {},
   "outputs": [],
   "source": [
    "coords[12]"
   ]
  },
  {
   "cell_type": "code",
   "execution_count": null,
   "id": "a5aa6ba1-b8b2-4fc1-8380-eccabada1267",
   "metadata": {
    "tags": []
   },
   "outputs": [],
   "source": [
    "for i in range(0,len(coords)):\n",
    "    index1 = np.absolute(data.time.data-(coords[i][0])).argmin()\n",
    "    index2 = np.absolute(data.time.data-(coords[i][0]+coords[i][2])).argmin()\n",
    "    print(index2-index1)"
   ]
  },
  {
   "cell_type": "code",
   "execution_count": null,
   "id": "0ca696b9-1995-46eb-b722-4c5e30dd91eb",
   "metadata": {},
   "outputs": [],
   "source": [
    "time_labels = data1.time.data\n",
    "time_labels.index(coords[15][0])"
   ]
  },
  {
   "cell_type": "code",
   "execution_count": null,
   "id": "b5cee3dc-d2bd-4847-89b8-ded930e1c0d1",
   "metadata": {},
   "outputs": [],
   "source": [
    "coords[15]"
   ]
  },
  {
   "cell_type": "code",
   "execution_count": null,
   "id": "17a05f50-35e9-4ede-bb3c-12631dc66c4d",
   "metadata": {},
   "outputs": [],
   "source": [
    "np.absolute(data1.time.data - coords[15][0]).argmin()"
   ]
  },
  {
   "cell_type": "code",
   "execution_count": null,
   "id": "d3752532-9c95-4929-8135-75d9afcd7df8",
   "metadata": {},
   "outputs": [],
   "source": [
    "data1.time.data[np.absolute(data1.time.data - coords[15][0]).argmin()]"
   ]
  },
  {
   "cell_type": "markdown",
   "id": "415dcbf1-ed66-40bf-8d44-ea5960729977",
   "metadata": {
    "tags": []
   },
   "source": [
    "### Power Spectral Density"
   ]
  },
  {
   "cell_type": "code",
   "execution_count": null,
   "id": "7d8e6157-a8ac-476d-bf2f-4947ac39ed2a",
   "metadata": {},
   "outputs": [],
   "source": [
    "from elephant.spectral import welch_psd"
   ]
  },
  {
   "cell_type": "code",
   "execution_count": null,
   "id": "3d1f4fa3-2068-4b14-af6e-4bc6e4fe354b",
   "metadata": {},
   "outputs": [],
   "source": [
    "one_channel_signal = lfp_slice.sel(channel=850263348).data"
   ]
  },
  {
   "cell_type": "code",
   "execution_count": null,
   "id": "5b04bd60-ec76-4207-9589-ad2cf8180cf2",
   "metadata": {},
   "outputs": [],
   "source": [
    "f, Pxx_den = signal.periodogram(one_channel_signal, fs=1250)\n",
    "plt.semilogy(f, Pxx_den)\n",
    "plt.xlabel('frequency (Hz)')\n",
    "plt.ylabel('power (artbitrary units)')\n",
    "# plt.xlim([0,30])"
   ]
  },
  {
   "cell_type": "code",
   "execution_count": null,
   "id": "15700c94-e491-4ac5-a906-663189623ec5",
   "metadata": {},
   "outputs": [],
   "source": [
    "f, psd = welch_psd(one_channel_signal, fs=1250)\n",
    "# plt.semilogy(f, psd)\n",
    "# plt.xlabel('frequency (Hz)')\n",
    "# plt.ylabel('power (artbitrary units)')\n",
    "# plt.xlim([0,30])\n",
    "\n",
    "plt.plot(f,psd)\n",
    "# plt.xlim([100,1000])\n",
    "plt.gca().set_xscale('log')\n",
    "plt.gca().set_yscale('log')"
   ]
  },
  {
   "cell_type": "code",
   "execution_count": null,
   "id": "1af120bc-bf03-4d7c-b81c-399806390e1e",
   "metadata": {},
   "outputs": [],
   "source": []
  }
 ],
 "metadata": {
  "kernelspec": {
   "display_name": "Python [conda env:allendata]",
   "language": "python",
   "name": "conda-env-allendata-py"
  },
  "language_info": {
   "codemirror_mode": {
    "name": "ipython",
    "version": 3
   },
   "file_extension": ".py",
   "mimetype": "text/x-python",
   "name": "python",
   "nbconvert_exporter": "python",
   "pygments_lexer": "ipython3",
   "version": "3.7.15"
  }
 },
 "nbformat": 4,
 "nbformat_minor": 5
}
