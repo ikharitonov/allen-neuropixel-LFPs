{
 "cells": [
  {
   "cell_type": "code",
   "execution_count": 1,
   "id": "c3b07184-0bdd-4c33-b707-cfe443a949c4",
   "metadata": {},
   "outputs": [
    {
     "name": "stderr",
     "output_type": "stream",
     "text": [
      "C:\\Users\\sarfi\\anaconda3\\envs\\allendata\\lib\\site-packages\\tqdm\\auto.py:22: TqdmWarning: IProgress not found. Please update jupyter and ipywidgets. See https://ipywidgets.readthedocs.io/en/stable/user_install.html\n",
      "  from .autonotebook import tqdm as notebook_tqdm\n"
     ]
    }
   ],
   "source": [
    "import os\n",
    "\n",
    "import numpy as np\n",
    "import pandas as pd\n",
    "import matplotlib.pyplot as plt\n",
    "from pathlib import Path\n",
    "\n",
    "from allensdk.brain_observatory.ecephys.ecephys_project_cache import EcephysProjectCache"
   ]
  },
  {
   "cell_type": "code",
   "execution_count": 2,
   "id": "6d24cf96-4545-4fb4-8ba2-8284ef85cd7d",
   "metadata": {},
   "outputs": [],
   "source": [
    "output_dir = Path.home() / 'Desktop' / 'ecephys_data'\n",
    "manifest_path = os.path.join(output_dir, \"manifest.json\")\n",
    "\n",
    "cache = EcephysProjectCache.from_warehouse(manifest=manifest_path)"
   ]
  },
  {
   "cell_type": "code",
   "execution_count": 3,
   "id": "c87e0670-c346-465e-9b9d-fcb32c62c628",
   "metadata": {},
   "outputs": [],
   "source": [
    "session_id = 715093703"
   ]
  },
  {
   "cell_type": "code",
   "execution_count": 5,
   "id": "4e27d0e1-65c5-4e4b-8c72-aa56eb81ba4a",
   "metadata": {},
   "outputs": [],
   "source": [
    "session = cache.get_session_data(session_id)"
   ]
  },
  {
   "cell_type": "code",
   "execution_count": null,
   "id": "954760c6-282e-49f4-b779-184661592063",
   "metadata": {},
   "outputs": [],
   "source": []
  },
  {
   "cell_type": "code",
   "execution_count": null,
   "id": "2b390e1f-8079-4493-ba35-550979ae95ad",
   "metadata": {},
   "outputs": [],
   "source": [
    "# Select by stimulus type and align (LFP data) by stiumus presentations (temporally)"
   ]
  }
 ],
 "metadata": {
  "kernelspec": {
   "display_name": "allendata",
   "language": "python",
   "name": "allendata"
  },
  "language_info": {
   "codemirror_mode": {
    "name": "ipython",
    "version": 3
   },
   "file_extension": ".py",
   "mimetype": "text/x-python",
   "name": "python",
   "nbconvert_exporter": "python",
   "pygments_lexer": "ipython3",
   "version": "3.7.13"
  }
 },
 "nbformat": 4,
 "nbformat_minor": 5
}
